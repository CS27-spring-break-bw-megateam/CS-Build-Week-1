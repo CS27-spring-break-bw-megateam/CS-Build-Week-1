{
  "nbformat": 4,
  "nbformat_minor": 0,
  "metadata": {
    "colab": {
      "name": "Dungeon Design 2 Sandbox v17.ipynb",
      "provenance": [],
      "collapsed_sections": []
    },
    "kernelspec": {
      "name": "python3",
      "display_name": "Python 3"
    }
  },
  "cells": [
    {
      "cell_type": "markdown",
      "metadata": {
        "id": "PO8YOpXQV3qi",
        "colab_type": "text"
      },
      "source": [
        "https://github.com/lineality/CS-Build-Week-1"
      ]
    },
    {
      "cell_type": "markdown",
      "metadata": {
        "id": "VHBZdFjScP3P",
        "colab_type": "text"
      },
      "source": [
        "https://github.com/CS27-spring-break-bw-megateam/CS-Build-Week-1/blob/staging-heroku/util/sample_generator.py"
      ]
    },
    {
      "cell_type": "markdown",
      "metadata": {
        "id": "OaZ4pEUPYWTO",
        "colab_type": "text"
      },
      "source": [
        "Are linked rooms like linked notes in a linked-list or graph?\n",
        "(or a hash-table?)"
      ]
    },
    {
      "cell_type": "markdown",
      "metadata": {
        "id": "VIUuK5h7ZC2g",
        "colab_type": "text"
      },
      "source": [
        "Q: Where are the rooms stored?\n"
      ]
    },
    {
      "cell_type": "markdown",
      "metadata": {
        "id": "HNOA3U3fif5-",
        "colab_type": "text"
      },
      "source": [
        "To do: \n",
        "Export model of maze?"
      ]
    },
    {
      "cell_type": "markdown",
      "metadata": {
        "id": "7zPkBub4-hNr",
        "colab_type": "text"
      },
      "source": [
        "https://stackoverflow.com/questions/38502/whats-a-good-algorithm-to-generate-a-maze\n",
        "\n",
        "https://github.com/theJollySin/mazelib\n"
      ]
    },
    {
      "cell_type": "markdown",
      "metadata": {
        "id": "lRMvdbL36dpe",
        "colab_type": "text"
      },
      "source": [
        "# original create_world.py put into shell\n"
      ]
    },
    {
      "cell_type": "code",
      "metadata": {
        "id": "3OgHKQXwV7MG",
        "colab_type": "code",
        "colab": {}
      },
      "source": [
        "\n",
        "# create_world.py\n",
        "# this is the file that must be run, which dungeon making must be merged into\n",
        "from django.contrib.auth.models import User\n",
        "from adventure.models import Player, Room\n",
        "# steps:\n",
        "# step 1: make rooms\n",
        "# step 2: make players\n",
        "#\n",
        "# erases pre-existing rooms\n",
        "Room.objects.all().delete()\n",
        "# creates set rooms\n",
        "# randomly generated/(or selected-from-smaller-set) description\n",
        "# idea: create clusters of rooms, and connect those\n",
        "r_outside = Room(title=\"Outside Cave Entrance\", description=\"North of you, the cave mount beckons\")\n",
        "r_foyer = Room(title=\"Foyer\", description=\"\"\"Dim light filters in from the south. Dusty passages run north and east.\"\"\")\n",
        "r_overlook = Room(title=\"Grand Overlook\", description=\"\"\"A steep cliff appears before you, falling into the darkness. Ahead to the north, a light flickers in the distance, but there is no way across the chasm.\"\"\")\n",
        "r_narrow = Room(title=\"Narrow Passage\", description=\"\"\"The narrow passage bends here from west to north. The smell of gold permeates the air.\"\"\")\n",
        "r_treasure = Room(title=\"Treasure Chamber\", description=\"\"\"You've found the long-lost treasure chamber! Sadly, it has already been completely emptied by earlier adventurers. The only exit is to the south.\"\"\")\n",
        "# .save() saves in the django database\n",
        "r_outside.save()\n",
        "r_foyer.save()\n",
        "r_overlook.save()\n",
        "r_narrow.save()\n",
        "r_treasure.save()\n",
        "# Link rooms together\n",
        "r_outside.connectRooms(r_foyer, \"n\")\n",
        "r_foyer.connectRooms(r_outside, \"s\")\n",
        "r_foyer.connectRooms(r_overlook, \"n\")\n",
        "r_overlook.connectRooms(r_foyer, \"s\")\n",
        "r_foyer.connectRooms(r_narrow, \"e\")\n",
        "r_narrow.connectRooms(r_foyer, \"w\")\n",
        "r_narrow.connectRooms(r_treasure, \"n\")\n",
        "r_treasure.connectRooms(r_narrow, \"s\")\n",
        "players = Player.objects.all()\n",
        "for p in players:\n",
        "    p.currentRoom = r_outside.id\n",
        "    p.save()"
      ],
      "execution_count": 0,
      "outputs": []
    },
    {
      "cell_type": "markdown",
      "metadata": {
        "id": "neFF_A8077g2",
        "colab_type": "text"
      },
      "source": [
        "## idea. start with a grid of rooms: 100x100\n",
        "make 100 random moves through that grid of rooms.\n",
        "each time, pick one of 5-10 room types with similar descriptions\n",
        "and connect to the past room (using the same function)\n",
        "\n",
        "\n"
      ]
    },
    {
      "cell_type": "code",
      "metadata": {
        "id": "vr44St7NKqDe",
        "colab_type": "code",
        "outputId": "ce40c66c-7009-47ba-9c4e-64567f673e94",
        "colab": {
          "base_uri": "https://localhost:8080/",
          "height": 35
        }
      },
      "source": [
        "this_room_type[1]"
      ],
      "execution_count": 0,
      "outputs": [
        {
          "output_type": "execute_result",
          "data": {
            "text/plain": [
              "'The wooden room is very...woodish.'"
            ]
          },
          "metadata": {
            "tags": []
          },
          "execution_count": 80
        }
      ]
    },
    {
      "cell_type": "markdown",
      "metadata": {
        "id": "3_i3BP88BadQ",
        "colab_type": "text"
      },
      "source": [
        "# Room Types"
      ]
    },
    {
      "cell_type": "code",
      "metadata": {
        "id": "Un7D41bpBb3E",
        "colab_type": "code",
        "colab": {}
      },
      "source": [
        "            # standard room types\n",
        "            r_long_hallway = (\"Long Hallway\", \"This hallway is very long. Be careful.\")\n",
        "            r_short_hallway = (\"Short Hallway\", \"This hallway is not very long. Be very careful.\")\n",
        "            r_medium_hallway = (\"Medium Hallway\", \"This hallway is... Be very careful.\")\n",
        "            r_stone_room = (\"stone room\", \"This stone room is dark. Be careful.\")\n",
        "            r_wooden_room = (\"wooden_room\", \"The wooden room is very...woodish.\")\n",
        "            r_swimming_pool = (\"Swimming Pool\", \"This looks like a great place to swim...is that a giant squid?\")\n",
        "            r_library = (\"library\", \"This library is very bright and quiet.\")\n",
        "            r_storage_room = (\"storage_room\", \"This storage room is full of things.\")\n",
        "            r_kitchen = (\"Kitchen\", \"This room is full of cooking supplies.\")\n",
        "            r_dungeon_cell = (\"Dungeon Cell\", \"This room looks like a prison cell.\")\n",
        "            r_server_room = (\"Dungeon Server Wearhouse\", \"This where the monsters keep their servers.\")\n",
        "            r_banquet_room = (\"Banquet Room\", \"This looks like a room for large events.\")\n",
        "            r_nest = (\"Nest\", \"This looks web filled nest for some kind of creature.\")\n",
        "            r_armory = (\"Armory\", \"This stone room is full of arms. To Arms!\")\n",
        "            r_cave = (\"Cave\", \"This stone room looks to be a natural cave opening.\")\n",
        "            r_mine = (\"Mine\", \"This area looks to be mine set up to find coal, iron, diamonds...and redstone...Punch a tree and get your torches ready!\")\n",
        "            r_office = (\"Office\", \"This room looks like a basement office at the state department.\")           \n",
        "            r_walk_in_closet = (\"Walk In Closet\", \"This room is a huge walk-in-closet. There's clothing everywhere! What????\")\n",
        "            # List of possible room types of Rooms\n",
        "            room_type_list = [r_long_hallway, r_medium_hallway, r_short_hallway, r_stone_room, r_wooden_room, r_swimming_pool, r_library, r_storage_room, r_kitchen, r_dungeon_cell, r_server_room, r_banquet_room, r_nest, r_armory, r_mine, r_office, r_walk_in_closet]"
      ],
      "execution_count": 0,
      "outputs": []
    },
    {
      "cell_type": "code",
      "metadata": {
        "id": "07lUQp0ejihs",
        "colab_type": "code",
        "outputId": "750651c2-5f5b-4032-e404-6565f04c2e46",
        "colab": {
          "base_uri": "https://localhost:8080/",
          "height": 51
        }
      },
      "source": [
        "import random\n",
        "this_room_type = random.choice(room_type_list)\n",
        "print(this_room_type[0])\n",
        "print(this_room_type[1])"
      ],
      "execution_count": 0,
      "outputs": [
        {
          "output_type": "stream",
          "text": [
            "library\n",
            "This library is very bright and quiet.\n"
          ],
          "name": "stdout"
        }
      ]
    },
    {
      "cell_type": "markdown",
      "metadata": {
        "id": "xf7qVU4vDWol",
        "colab_type": "text"
      },
      "source": [
        "# Modified Sample_generator for making random rooms\n",
        "\n",
        "This is the original version that makes the dungeon (but can't run in the shell)"
      ]
    },
    {
      "cell_type": "code",
      "metadata": {
        "id": "qN9KCfPhVMl0",
        "colab_type": "code",
        "outputId": "68a93818-d78b-455b-e926-3245474a469f",
        "colab": {
          "base_uri": "https://localhost:8080/",
          "height": 71
        }
      },
      "source": [
        "# merging code\n",
        "# known bug: may loop if dungeon-grid size is too small\n",
        "\n",
        "# 2 lists: generated as the rooms are made\n",
        "# list of rooms  [{x: 4, y: 5},{x: 4, y: 5}, ...]\n",
        "# list of connections  [ [{x: 4, y: 5}, {x: 4, y: 5}], \n",
        "#                        [{x: 4, y: 5}, {x: 4, y: 5}] ]\n",
        "\n",
        "class Room_maker:  # Class: Room input parameters (id, name, description, x, y)\n",
        "    # constructor\n",
        "    def __init__(self, id, name, description, x, y):\n",
        "        # attributes\n",
        "        self.id = id\n",
        "        self.name = name\n",
        "        self.description = description\n",
        "        self.n_to = None\n",
        "        self.s_to = None\n",
        "        self.e_to = None\n",
        "        self.w_to = None\n",
        "        self.x = x\n",
        "        self.y = y\n",
        "\n",
        "    # ?\n",
        "    # class methods\n",
        "    def __repr__(self):\n",
        "        # if self.e_to is not None:\n",
        "        #     return f\"({self.x}, {self.y}) -> ({self.e_to.x}, {self.e_to.y})\"\n",
        "        return f\"({self.x}, {self.y})\"\n",
        "\n",
        "    # connects to the previously make room\n",
        "    def connect_rooms(self, connecting_room, direction):\n",
        "        # Connect two rooms in the given n/s/e/w direction\n",
        "        reverse_dirs = {\"n\": \"s\", \"s\": \"n\", \"e\": \"w\", \"w\": \"e\"}\n",
        "        reverse_dir = reverse_dirs[direction]\n",
        "        setattr(self, f\"{direction}_to\", connecting_room)\n",
        "        setattr(connecting_room, f\"{reverse_dir}_to\", self)\n",
        "\n",
        "    # this is just for the player\n",
        "    def get_room_in_direction(self, direction):\n",
        "        return getattr(self, f\"{direction}_to\")\n",
        "\n",
        "\n",
        "# see while loop for making random rooms\n",
        "class World:  # Class\n",
        "    # constructor\n",
        "    def __init__(self):\n",
        "        # attributes of world-grid\n",
        "        self.grid = None\n",
        "        # # 2 lists for front end mapping\n",
        "        self.rooms_list = None\n",
        "        self.doors_list = None\n",
        "        self.width = 0\n",
        "        self.height = 0\n",
        "\n",
        "    # class methods    \n",
        "    def generate_rooms(self, size_x, size_y, num_rooms):\n",
        "        # Step 1: set up variables and things for while loop\n",
        "        # Step 2: run while loop to create rooms\n",
        "\n",
        "        # this makes any empty world grid - why this sequence?\n",
        "        #\n",
        "        # make part of grid? sets y dimension?\n",
        "        self.grid = [None] * size_y\n",
        "        # sets max size of world-grid\n",
        "        self.width = size_x        \n",
        "        self.height = size_y\n",
        "        # ? since grid was made, what does this do?\n",
        "        # sets x dimension?\n",
        "        for i in range( len(self.grid) ):\n",
        "            self.grid[i] = [None] * size_x\n",
        "        #\n",
        "        # # 2 lists for front end mapping\n",
        "        self.rooms_list = []\n",
        "        self.doors_list = []\n",
        "\n",
        "        # Start from lower-left corner (0,0)\n",
        "        x = -1 # (this will become 0 on the first step)\n",
        "        y = 0\n",
        "\n",
        "        # keeping values for comparison\n",
        "        previous_id_tuple = None\n",
        "        previous_room = None\n",
        "        previous_direction = None\n",
        "\n",
        "        # up to max number of rooms\n",
        "        room_count = 0\n",
        "\n",
        "        # move these out of the while loop\n",
        "        import random\n",
        "        # standard room types\n",
        "        r_long_hallway = (\"Long Hallway\", \"This hallway is very long. Be careful.\")\n",
        "        r_short_hallway = (\"Short Hallway\", \"This hallway is not very long. Be very careful.\")\n",
        "        r_medium_hallway = (\"Medium Hallway\", \"This hallway is... Be very careful.\")\n",
        "        r_stone_room = (\"stone room\", \"This stone room is dark. Be careful.\")\n",
        "        r_wooden_room = (\"wooden_room\", \"The wooden room is very...woodish.\")\n",
        "        r_swimming_pool = (\"Swimming Pool\", \"This looks like a great place to swim...is that a giant squid?\")\n",
        "        r_library = (\"library\", \"This library is very bright and quiet.\")\n",
        "        r_storage_room = (\"storage_room\", \"This storage room is full of things.\")\n",
        "        r_kitchen = (\"Kitchen\", \"This room is full of cooking supplies.\")\n",
        "        r_dungeon_cell = (\"Dungeon Cell\", \"This room looks like a prison cell.\")\n",
        "        r_server_room = (\"Dungeon Server Wearhouse\", \"This where the monsters keep their servers.\")\n",
        "        r_banquet_room = (\"Banquet Room\", \"This looks like a room for large events.\")\n",
        "        r_nest = (\"Nest\", \"This looks web filled nest for some kind of creature.\")\n",
        "        r_armory = (\"Armory\", \"This stone room is full of arms. To Arms!\")\n",
        "        r_cave = (\"Cave\", \"This stone room looks to be a natural cave opening.\")\n",
        "        r_mine = (\"Mine\", \"This area looks to be mine set up to find coal, iron, diamonds...and redstone...Punch a tree and get your torches ready!\")\n",
        "        r_office = (\"Office\", \"This room looks like a basement office at the state department.\")           \n",
        "        r_walk_in_closet = (\"Walk In Closet\", \"This room is a huge walk-in-closet. There's clothing everywhere!\")\n",
        "\n",
        "        # List of possible room types of Rooms\n",
        "        room_type_list = [r_long_hallway, r_medium_hallway, r_short_hallway, r_stone_room, r_wooden_room, r_swimming_pool, r_library, r_storage_room, r_kitchen, r_dungeon_cell, r_server_room, r_banquet_room, r_nest, r_armory, r_mine, r_office, r_walk_in_closet]\n",
        "\n",
        "        # set values\n",
        "        x = 0\n",
        "        y = 0\n",
        "\n",
        "        current_direction = 'n'\n",
        "\n",
        "        # while look for making rooms\n",
        "        # Random walk through grid of rooms, \n",
        "        # any direction except backwards\n",
        "        while room_count < num_rooms:\n",
        "\n",
        "            # randomly pick room type\n",
        "            this_room_type = random.choice(room_type_list)\n",
        "\n",
        "            # # inspection\n",
        "            # print(this_room_type)\n",
        "\n",
        "            # previous_room_direction = reverse_dirs[current_direction]\n",
        "            possible_directions = ['n', 's', 'e' ,'w']\n",
        "            # starts with a random choice:\n",
        "            current_direction = random.choice(possible_directions)\n",
        "\n",
        "            # save old values\n",
        "            x_old = x\n",
        "            y_old = y\n",
        "\n",
        "            # save the location of the past room\n",
        "            past_room = (x,y)\n",
        "\n",
        "            # \"don't go out of bounds\"\n",
        "            # check to make sure not out of bounds\n",
        "            # while out of bounds, keep trying again for a not-out option\n",
        "            while (x >= size_x - 1) or (y >= size_y - 1) or (x < 0) or (y < 0) or ((x,y) == past_room) or ((x,y) == (0,0)):\n",
        "                # save old values\n",
        "                x = x_old\n",
        "                y = y_old\n",
        "\n",
        "                # starts with a random choice:\n",
        "                current_direction = random.choice(possible_directions)\n",
        "                if current_direction == 'n':\n",
        "                    y += 1\n",
        "                if current_direction == 's':\n",
        "                    y -= 1\n",
        "                if current_direction == 'e':\n",
        "                    x += 1\n",
        "                if current_direction == 'w':\n",
        "                    x -= 1\n",
        "            \n",
        "            # # inspection\n",
        "            # print(\"room picked\", x,y)\n",
        "\n",
        "            # look for a previously made room (where you are looking \n",
        "            # to make a new room)\n",
        "            # if not (already one there), make a new room\n",
        "            if self.grid[y][x] is None:\n",
        "                # Create a room in the given direction\n",
        "                room = Room_maker(room_count, this_room_type[0], this_room_type[1], x, y)\n",
        "              # room = Room(room_count, this_room_type[0], this_room_type[1])\n",
        "              # room = Room(room_count, this_room_type[0], this_room_type[1], x, y)   \n",
        "\n",
        "                # Save the room in the World grid\n",
        "                self.grid[y][x] = room\n",
        "                # update room counter, only if a new room is made\n",
        "                room_count += 1\n",
        "                # add room to room list:\n",
        "                mask_dict = {'x':x, 'y':y}\n",
        "                self.rooms_list.extend([mask_dict])\n",
        "\n",
        "                # # inspection\n",
        "                # print(\"mask dict\", mask_dict)\n",
        "                # print(\"x,y\", x,y)\n",
        "\n",
        "            # sets previous reverse room direction\n",
        "            reverse_dirs = {\"n\": \"s\", \"s\": \"n\", \"e\": \"w\", \"w\": \"e\"}\n",
        "            previous_room_direction = reverse_dirs[current_direction]\n",
        "\n",
        "            # either way: Connect the new room to the previous room\n",
        "            if previous_room is not None:\n",
        "                # connect to the previous room...in DB\n",
        "                previous_room.connect_rooms(room, previous_room_direction)\n",
        "                room.connect_rooms(previous_room, current_direction)\n",
        "                # \n",
        "                # connect to the previous room...in room maker\n",
        "\n",
        "\n",
        "                # doors list: add room to list:\n",
        "                mask = [{'x': int(room.x), 'y': int(room.y)}, {'x': int(previous_room.x), 'y': int(previous_room.y)}]\n",
        "                self.doors_list.extend([mask])\n",
        "\n",
        "                # # inspection\n",
        "                # print(mask)\n",
        "\n",
        "            # Update iteration variables\n",
        "            previous_room = room\n",
        "\n",
        "            # inspection\n",
        "            # print(\"room count\", room_count)\n",
        "\n",
        "            # # save room to django datatable\n",
        "            # room.save()\n",
        "\n",
        "# # generate world:\n",
        "# # set input values\n",
        "w = World()\n",
        "num_rooms = 100\n",
        "width = 20\n",
        "height = 20\n",
        "w.generate_rooms(width, height, num_rooms)\n",
        "#\n",
        "# inspection\n",
        "print(w.rooms_list)\n",
        "print(w.doors_list)\n",
        "# Where will these files be stored for later extraction?"
      ],
      "execution_count": 1,
      "outputs": [
        {
          "output_type": "stream",
          "text": [
            "[{'x': 1, 'y': 0}, {'x': 1, 'y': 1}, {'x': 0, 'y': 1}, {'x': 0, 'y': 2}, {'x': 1, 'y': 2}, {'x': 1, 'y': 3}, {'x': 0, 'y': 3}, {'x': 2, 'y': 1}, {'x': 2, 'y': 0}, {'x': 2, 'y': 2}, {'x': 3, 'y': 1}, {'x': 0, 'y': 4}, {'x': 0, 'y': 5}, {'x': 0, 'y': 6}, {'x': 1, 'y': 6}, {'x': 0, 'y': 7}, {'x': 1, 'y': 7}, {'x': 1, 'y': 8}, {'x': 0, 'y': 8}, {'x': 0, 'y': 9}, {'x': 0, 'y': 10}, {'x': 1, 'y': 10}, {'x': 2, 'y': 10}, {'x': 3, 'y': 10}, {'x': 3, 'y': 9}, {'x': 4, 'y': 10}, {'x': 4, 'y': 9}, {'x': 5, 'y': 9}, {'x': 5, 'y': 8}, {'x': 5, 'y': 7}, {'x': 4, 'y': 8}, {'x': 4, 'y': 11}, {'x': 4, 'y': 12}, {'x': 5, 'y': 12}, {'x': 5, 'y': 11}, {'x': 6, 'y': 11}, {'x': 6, 'y': 12}, {'x': 7, 'y': 12}, {'x': 7, 'y': 13}, {'x': 8, 'y': 12}, {'x': 9, 'y': 12}, {'x': 9, 'y': 11}, {'x': 9, 'y': 10}, {'x': 9, 'y': 9}, {'x': 10, 'y': 10}, {'x': 11, 'y': 10}, {'x': 11, 'y': 9}, {'x': 12, 'y': 9}, {'x': 11, 'y': 8}, {'x': 10, 'y': 8}, {'x': 10, 'y': 7}, {'x': 10, 'y': 9}, {'x': 12, 'y': 8}, {'x': 12, 'y': 7}, {'x': 11, 'y': 7}, {'x': 12, 'y': 6}, {'x': 11, 'y': 6}, {'x': 11, 'y': 5}, {'x': 10, 'y': 5}, {'x': 10, 'y': 4}, {'x': 9, 'y': 4}, {'x': 9, 'y': 5}, {'x': 9, 'y': 6}, {'x': 10, 'y': 3}, {'x': 11, 'y': 3}, {'x': 12, 'y': 3}, {'x': 13, 'y': 3}, {'x': 13, 'y': 2}, {'x': 14, 'y': 2}, {'x': 10, 'y': 2}, {'x': 11, 'y': 2}, {'x': 9, 'y': 2}, {'x': 9, 'y': 1}, {'x': 9, 'y': 0}, {'x': 10, 'y': 0}, {'x': 8, 'y': 0}, {'x': 7, 'y': 0}, {'x': 7, 'y': 1}, {'x': 7, 'y': 2}, {'x': 7, 'y': 3}, {'x': 7, 'y': 4}, {'x': 8, 'y': 4}, {'x': 8, 'y': 3}, {'x': 7, 'y': 5}, {'x': 8, 'y': 5}, {'x': 6, 'y': 4}, {'x': 6, 'y': 3}, {'x': 5, 'y': 3}, {'x': 5, 'y': 4}, {'x': 5, 'y': 5}, {'x': 5, 'y': 6}, {'x': 6, 'y': 7}, {'x': 7, 'y': 7}, {'x': 7, 'y': 8}, {'x': 6, 'y': 8}, {'x': 6, 'y': 9}, {'x': 3, 'y': 8}, {'x': 2, 'y': 8}, {'x': 3, 'y': 7}, {'x': 2, 'y': 7}]\n",
            "[[{'x': 1, 'y': 1}, {'x': 1, 'y': 0}], [{'x': 0, 'y': 1}, {'x': 1, 'y': 1}], [{'x': 0, 'y': 2}, {'x': 0, 'y': 1}], [{'x': 1, 'y': 2}, {'x': 0, 'y': 2}], [{'x': 1, 'y': 3}, {'x': 1, 'y': 2}], [{'x': 0, 'y': 3}, {'x': 1, 'y': 3}], [{'x': 0, 'y': 3}, {'x': 0, 'y': 3}], [{'x': 0, 'y': 3}, {'x': 0, 'y': 3}], [{'x': 0, 'y': 3}, {'x': 0, 'y': 3}], [{'x': 2, 'y': 1}, {'x': 0, 'y': 3}], [{'x': 2, 'y': 0}, {'x': 2, 'y': 1}], [{'x': 2, 'y': 0}, {'x': 2, 'y': 0}], [{'x': 2, 'y': 0}, {'x': 2, 'y': 0}], [{'x': 2, 'y': 0}, {'x': 2, 'y': 0}], [{'x': 2, 'y': 2}, {'x': 2, 'y': 0}], [{'x': 2, 'y': 2}, {'x': 2, 'y': 2}], [{'x': 2, 'y': 2}, {'x': 2, 'y': 2}], [{'x': 2, 'y': 2}, {'x': 2, 'y': 2}], [{'x': 2, 'y': 2}, {'x': 2, 'y': 2}], [{'x': 2, 'y': 2}, {'x': 2, 'y': 2}], [{'x': 2, 'y': 2}, {'x': 2, 'y': 2}], [{'x': 2, 'y': 2}, {'x': 2, 'y': 2}], [{'x': 2, 'y': 2}, {'x': 2, 'y': 2}], [{'x': 2, 'y': 2}, {'x': 2, 'y': 2}], [{'x': 2, 'y': 2}, {'x': 2, 'y': 2}], [{'x': 2, 'y': 2}, {'x': 2, 'y': 2}], [{'x': 2, 'y': 2}, {'x': 2, 'y': 2}], [{'x': 2, 'y': 2}, {'x': 2, 'y': 2}], [{'x': 3, 'y': 1}, {'x': 2, 'y': 2}], [{'x': 3, 'y': 1}, {'x': 3, 'y': 1}], [{'x': 3, 'y': 1}, {'x': 3, 'y': 1}], [{'x': 3, 'y': 1}, {'x': 3, 'y': 1}], [{'x': 3, 'y': 1}, {'x': 3, 'y': 1}], [{'x': 3, 'y': 1}, {'x': 3, 'y': 1}], [{'x': 3, 'y': 1}, {'x': 3, 'y': 1}], [{'x': 3, 'y': 1}, {'x': 3, 'y': 1}], [{'x': 0, 'y': 4}, {'x': 3, 'y': 1}], [{'x': 0, 'y': 5}, {'x': 0, 'y': 4}], [{'x': 0, 'y': 6}, {'x': 0, 'y': 5}], [{'x': 1, 'y': 6}, {'x': 0, 'y': 6}], [{'x': 1, 'y': 6}, {'x': 1, 'y': 6}], [{'x': 0, 'y': 7}, {'x': 1, 'y': 6}], [{'x': 0, 'y': 7}, {'x': 0, 'y': 7}], [{'x': 0, 'y': 7}, {'x': 0, 'y': 7}], [{'x': 1, 'y': 7}, {'x': 0, 'y': 7}], [{'x': 1, 'y': 8}, {'x': 1, 'y': 7}], [{'x': 0, 'y': 8}, {'x': 1, 'y': 8}], [{'x': 0, 'y': 9}, {'x': 0, 'y': 8}], [{'x': 0, 'y': 10}, {'x': 0, 'y': 9}], [{'x': 1, 'y': 10}, {'x': 0, 'y': 10}], [{'x': 2, 'y': 10}, {'x': 1, 'y': 10}], [{'x': 2, 'y': 10}, {'x': 2, 'y': 10}], [{'x': 2, 'y': 10}, {'x': 2, 'y': 10}], [{'x': 3, 'y': 10}, {'x': 2, 'y': 10}], [{'x': 3, 'y': 9}, {'x': 3, 'y': 10}], [{'x': 3, 'y': 9}, {'x': 3, 'y': 9}], [{'x': 3, 'y': 9}, {'x': 3, 'y': 9}], [{'x': 3, 'y': 9}, {'x': 3, 'y': 9}], [{'x': 4, 'y': 10}, {'x': 3, 'y': 9}], [{'x': 4, 'y': 9}, {'x': 4, 'y': 10}], [{'x': 4, 'y': 9}, {'x': 4, 'y': 9}], [{'x': 4, 'y': 9}, {'x': 4, 'y': 9}], [{'x': 4, 'y': 9}, {'x': 4, 'y': 9}], [{'x': 4, 'y': 9}, {'x': 4, 'y': 9}], [{'x': 5, 'y': 9}, {'x': 4, 'y': 9}], [{'x': 5, 'y': 9}, {'x': 5, 'y': 9}], [{'x': 5, 'y': 9}, {'x': 5, 'y': 9}], [{'x': 5, 'y': 8}, {'x': 5, 'y': 9}], [{'x': 5, 'y': 7}, {'x': 5, 'y': 8}], [{'x': 5, 'y': 7}, {'x': 5, 'y': 7}], [{'x': 4, 'y': 8}, {'x': 5, 'y': 7}], [{'x': 4, 'y': 8}, {'x': 4, 'y': 8}], [{'x': 4, 'y': 8}, {'x': 4, 'y': 8}], [{'x': 4, 'y': 11}, {'x': 4, 'y': 8}], [{'x': 4, 'y': 12}, {'x': 4, 'y': 11}], [{'x': 5, 'y': 12}, {'x': 4, 'y': 12}], [{'x': 5, 'y': 11}, {'x': 5, 'y': 12}], [{'x': 5, 'y': 11}, {'x': 5, 'y': 11}], [{'x': 5, 'y': 11}, {'x': 5, 'y': 11}], [{'x': 6, 'y': 11}, {'x': 5, 'y': 11}], [{'x': 6, 'y': 12}, {'x': 6, 'y': 11}], [{'x': 7, 'y': 12}, {'x': 6, 'y': 12}], [{'x': 7, 'y': 13}, {'x': 7, 'y': 12}], [{'x': 7, 'y': 13}, {'x': 7, 'y': 13}], [{'x': 8, 'y': 12}, {'x': 7, 'y': 13}], [{'x': 9, 'y': 12}, {'x': 8, 'y': 12}], [{'x': 9, 'y': 11}, {'x': 9, 'y': 12}], [{'x': 9, 'y': 10}, {'x': 9, 'y': 11}], [{'x': 9, 'y': 9}, {'x': 9, 'y': 10}], [{'x': 9, 'y': 9}, {'x': 9, 'y': 9}], [{'x': 10, 'y': 10}, {'x': 9, 'y': 9}], [{'x': 11, 'y': 10}, {'x': 10, 'y': 10}], [{'x': 11, 'y': 9}, {'x': 11, 'y': 10}], [{'x': 12, 'y': 9}, {'x': 11, 'y': 9}], [{'x': 12, 'y': 9}, {'x': 12, 'y': 9}], [{'x': 11, 'y': 8}, {'x': 12, 'y': 9}], [{'x': 10, 'y': 8}, {'x': 11, 'y': 8}], [{'x': 10, 'y': 7}, {'x': 10, 'y': 8}], [{'x': 10, 'y': 7}, {'x': 10, 'y': 7}], [{'x': 10, 'y': 7}, {'x': 10, 'y': 7}], [{'x': 10, 'y': 7}, {'x': 10, 'y': 7}], [{'x': 10, 'y': 9}, {'x': 10, 'y': 7}], [{'x': 10, 'y': 9}, {'x': 10, 'y': 9}], [{'x': 10, 'y': 9}, {'x': 10, 'y': 9}], [{'x': 12, 'y': 8}, {'x': 10, 'y': 9}], [{'x': 12, 'y': 7}, {'x': 12, 'y': 8}], [{'x': 11, 'y': 7}, {'x': 12, 'y': 7}], [{'x': 11, 'y': 7}, {'x': 11, 'y': 7}], [{'x': 12, 'y': 6}, {'x': 11, 'y': 7}], [{'x': 11, 'y': 6}, {'x': 12, 'y': 6}], [{'x': 11, 'y': 6}, {'x': 11, 'y': 6}], [{'x': 11, 'y': 6}, {'x': 11, 'y': 6}], [{'x': 11, 'y': 5}, {'x': 11, 'y': 6}], [{'x': 10, 'y': 5}, {'x': 11, 'y': 5}], [{'x': 10, 'y': 4}, {'x': 10, 'y': 5}], [{'x': 9, 'y': 4}, {'x': 10, 'y': 4}], [{'x': 9, 'y': 4}, {'x': 9, 'y': 4}], [{'x': 9, 'y': 4}, {'x': 9, 'y': 4}], [{'x': 9, 'y': 5}, {'x': 9, 'y': 4}], [{'x': 9, 'y': 6}, {'x': 9, 'y': 5}], [{'x': 9, 'y': 6}, {'x': 9, 'y': 6}], [{'x': 9, 'y': 6}, {'x': 9, 'y': 6}], [{'x': 9, 'y': 6}, {'x': 9, 'y': 6}], [{'x': 9, 'y': 6}, {'x': 9, 'y': 6}], [{'x': 9, 'y': 6}, {'x': 9, 'y': 6}], [{'x': 10, 'y': 3}, {'x': 9, 'y': 6}], [{'x': 11, 'y': 3}, {'x': 10, 'y': 3}], [{'x': 12, 'y': 3}, {'x': 11, 'y': 3}], [{'x': 12, 'y': 3}, {'x': 12, 'y': 3}], [{'x': 12, 'y': 3}, {'x': 12, 'y': 3}], [{'x': 12, 'y': 3}, {'x': 12, 'y': 3}], [{'x': 12, 'y': 3}, {'x': 12, 'y': 3}], [{'x': 13, 'y': 3}, {'x': 12, 'y': 3}], [{'x': 13, 'y': 3}, {'x': 13, 'y': 3}], [{'x': 13, 'y': 3}, {'x': 13, 'y': 3}], [{'x': 13, 'y': 2}, {'x': 13, 'y': 3}], [{'x': 14, 'y': 2}, {'x': 13, 'y': 2}], [{'x': 14, 'y': 2}, {'x': 14, 'y': 2}], [{'x': 14, 'y': 2}, {'x': 14, 'y': 2}], [{'x': 14, 'y': 2}, {'x': 14, 'y': 2}], [{'x': 14, 'y': 2}, {'x': 14, 'y': 2}], [{'x': 14, 'y': 2}, {'x': 14, 'y': 2}], [{'x': 14, 'y': 2}, {'x': 14, 'y': 2}], [{'x': 14, 'y': 2}, {'x': 14, 'y': 2}], [{'x': 14, 'y': 2}, {'x': 14, 'y': 2}], [{'x': 14, 'y': 2}, {'x': 14, 'y': 2}], [{'x': 10, 'y': 2}, {'x': 14, 'y': 2}], [{'x': 11, 'y': 2}, {'x': 10, 'y': 2}], [{'x': 11, 'y': 2}, {'x': 11, 'y': 2}], [{'x': 9, 'y': 2}, {'x': 11, 'y': 2}], [{'x': 9, 'y': 1}, {'x': 9, 'y': 2}], [{'x': 9, 'y': 0}, {'x': 9, 'y': 1}], [{'x': 10, 'y': 0}, {'x': 9, 'y': 0}], [{'x': 10, 'y': 0}, {'x': 10, 'y': 0}], [{'x': 8, 'y': 0}, {'x': 10, 'y': 0}], [{'x': 8, 'y': 0}, {'x': 8, 'y': 0}], [{'x': 8, 'y': 0}, {'x': 8, 'y': 0}], [{'x': 8, 'y': 0}, {'x': 8, 'y': 0}], [{'x': 8, 'y': 0}, {'x': 8, 'y': 0}], [{'x': 8, 'y': 0}, {'x': 8, 'y': 0}], [{'x': 8, 'y': 0}, {'x': 8, 'y': 0}], [{'x': 7, 'y': 0}, {'x': 8, 'y': 0}], [{'x': 7, 'y': 1}, {'x': 7, 'y': 0}], [{'x': 7, 'y': 2}, {'x': 7, 'y': 1}], [{'x': 7, 'y': 3}, {'x': 7, 'y': 2}], [{'x': 7, 'y': 4}, {'x': 7, 'y': 3}], [{'x': 8, 'y': 4}, {'x': 7, 'y': 4}], [{'x': 8, 'y': 3}, {'x': 8, 'y': 4}], [{'x': 8, 'y': 3}, {'x': 8, 'y': 3}], [{'x': 8, 'y': 3}, {'x': 8, 'y': 3}], [{'x': 8, 'y': 3}, {'x': 8, 'y': 3}], [{'x': 8, 'y': 3}, {'x': 8, 'y': 3}], [{'x': 7, 'y': 5}, {'x': 8, 'y': 3}], [{'x': 8, 'y': 5}, {'x': 7, 'y': 5}], [{'x': 8, 'y': 5}, {'x': 8, 'y': 5}], [{'x': 8, 'y': 5}, {'x': 8, 'y': 5}], [{'x': 6, 'y': 4}, {'x': 8, 'y': 5}], [{'x': 6, 'y': 4}, {'x': 6, 'y': 4}], [{'x': 6, 'y': 4}, {'x': 6, 'y': 4}], [{'x': 6, 'y': 3}, {'x': 6, 'y': 4}], [{'x': 5, 'y': 3}, {'x': 6, 'y': 3}], [{'x': 5, 'y': 4}, {'x': 5, 'y': 3}], [{'x': 5, 'y': 5}, {'x': 5, 'y': 4}], [{'x': 5, 'y': 5}, {'x': 5, 'y': 5}], [{'x': 5, 'y': 5}, {'x': 5, 'y': 5}], [{'x': 5, 'y': 5}, {'x': 5, 'y': 5}], [{'x': 5, 'y': 5}, {'x': 5, 'y': 5}], [{'x': 5, 'y': 5}, {'x': 5, 'y': 5}], [{'x': 5, 'y': 5}, {'x': 5, 'y': 5}], [{'x': 5, 'y': 5}, {'x': 5, 'y': 5}], [{'x': 5, 'y': 5}, {'x': 5, 'y': 5}], [{'x': 5, 'y': 5}, {'x': 5, 'y': 5}], [{'x': 5, 'y': 5}, {'x': 5, 'y': 5}], [{'x': 5, 'y': 5}, {'x': 5, 'y': 5}], [{'x': 5, 'y': 5}, {'x': 5, 'y': 5}], [{'x': 5, 'y': 6}, {'x': 5, 'y': 5}], [{'x': 5, 'y': 6}, {'x': 5, 'y': 6}], [{'x': 6, 'y': 7}, {'x': 5, 'y': 6}], [{'x': 7, 'y': 7}, {'x': 6, 'y': 7}], [{'x': 7, 'y': 8}, {'x': 7, 'y': 7}], [{'x': 6, 'y': 8}, {'x': 7, 'y': 8}], [{'x': 6, 'y': 8}, {'x': 6, 'y': 8}], [{'x': 6, 'y': 8}, {'x': 6, 'y': 8}], [{'x': 6, 'y': 8}, {'x': 6, 'y': 8}], [{'x': 6, 'y': 8}, {'x': 6, 'y': 8}], [{'x': 6, 'y': 9}, {'x': 6, 'y': 8}], [{'x': 6, 'y': 9}, {'x': 6, 'y': 9}], [{'x': 6, 'y': 9}, {'x': 6, 'y': 9}], [{'x': 6, 'y': 9}, {'x': 6, 'y': 9}], [{'x': 6, 'y': 9}, {'x': 6, 'y': 9}], [{'x': 6, 'y': 9}, {'x': 6, 'y': 9}], [{'x': 6, 'y': 9}, {'x': 6, 'y': 9}], [{'x': 6, 'y': 9}, {'x': 6, 'y': 9}], [{'x': 6, 'y': 9}, {'x': 6, 'y': 9}], [{'x': 6, 'y': 9}, {'x': 6, 'y': 9}], [{'x': 6, 'y': 9}, {'x': 6, 'y': 9}], [{'x': 6, 'y': 9}, {'x': 6, 'y': 9}], [{'x': 6, 'y': 9}, {'x': 6, 'y': 9}], [{'x': 6, 'y': 9}, {'x': 6, 'y': 9}], [{'x': 6, 'y': 9}, {'x': 6, 'y': 9}], [{'x': 6, 'y': 9}, {'x': 6, 'y': 9}], [{'x': 3, 'y': 8}, {'x': 6, 'y': 9}], [{'x': 2, 'y': 8}, {'x': 3, 'y': 8}], [{'x': 2, 'y': 8}, {'x': 2, 'y': 8}], [{'x': 3, 'y': 7}, {'x': 2, 'y': 8}], [{'x': 2, 'y': 7}, {'x': 3, 'y': 7}]]\n"
          ],
          "name": "stdout"
        }
      ]
    },
    {
      "cell_type": "markdown",
      "metadata": {
        "id": "q0YB-bxhbyfi",
        "colab_type": "text"
      },
      "source": [
        ""
      ]
    },
    {
      "cell_type": "markdown",
      "metadata": {
        "colab_type": "text",
        "id": "oVDIpzitbyox"
      },
      "source": [
        "# Re-Modified Sample_generator for making lists of random rooms and connections\n",
        "\n",
        "This is the original version that makes the dungeon (but can't run in the shell)"
      ]
    },
    {
      "cell_type": "code",
      "metadata": {
        "colab_type": "code",
        "outputId": "f6d6c14f-6336-4996-d8c0-84d362af395e",
        "id": "0YZ3FhIcbyo0",
        "colab": {
          "base_uri": "https://localhost:8080/",
          "height": 88
        }
      },
      "source": [
        "# merging code\n",
        "# known bug: may loop if dungeon-grid size is too small\n",
        "\n",
        "# 2 lists: generated as the rooms are made\n",
        "# list of rooms  [{x: 4, y: 5},{x: 4, y: 5}, ...]\n",
        "# list of connections  [ [{x: 4, y: 5}, {x: 4, y: 5}], \n",
        "#                        [{x: 4, y: 5}, {x: 4, y: 5}] ]\n",
        "\n",
        "class Room_maker:  # Class: Room input parameters (id, name, description, x, y)\n",
        "    # constructor\n",
        "    def __init__(self, id, name, description, x, y):\n",
        "        # attributes\n",
        "        self.id = id\n",
        "        self.name = name\n",
        "        self.description = description\n",
        "        self.n_to = None\n",
        "        self.s_to = None\n",
        "        self.e_to = None\n",
        "        self.w_to = None\n",
        "        self.x = x\n",
        "        self.y = y\n",
        "\n",
        "    # ?\n",
        "    # class methods\n",
        "    def __repr__(self):\n",
        "        # if self.e_to is not None:\n",
        "        #     return f\"({self.x}, {self.y}) -> ({self.e_to.x}, {self.e_to.y})\"\n",
        "        return f\"({self.x}, {self.y})\"\n",
        "\n",
        "    # connects to the previously make room\n",
        "    def connect_rooms(self, connecting_room, direction):\n",
        "        # Connect two rooms in the given n/s/e/w direction\n",
        "        reverse_dirs = {\"n\": \"s\", \"s\": \"n\", \"e\": \"w\", \"w\": \"e\"}\n",
        "        reverse_dir = reverse_dirs[direction]\n",
        "        setattr(self, f\"{direction}_to\", connecting_room)\n",
        "        setattr(connecting_room, f\"{reverse_dir}_to\", self)\n",
        "\n",
        "    # this is just for the player\n",
        "    def get_room_in_direction(self, direction):\n",
        "        return getattr(self, f\"{direction}_to\")\n",
        "\n",
        "\n",
        "# see while loop for making random rooms\n",
        "class World:  # Class\n",
        "    # constructor\n",
        "    def __init__(self):\n",
        "        # attributes of world-grid\n",
        "        self.grid = None\n",
        "        # # lists for front end mapping and DB saving\n",
        "        self.rooms_list = []  # list of rooms (coordinates)\n",
        "        self.doors_list = []  # list of doors/connections between rooms (coordinates)\n",
        "        self.room_object_input_list = [] # list of rooms to make into objects\n",
        "        self.direction_list = [] # like object but with direction\n",
        "        self.width = 0\n",
        "        self.height = 0\n",
        "        self.json_map_bundle = {}\n",
        "\n",
        "    # class methods    \n",
        "    def generate_rooms(self, size_x, size_y, num_rooms):\n",
        "        # Step 1: set up variables and things for while loop\n",
        "        # Step 2: run while loop to create rooms\n",
        "\n",
        "        # this makes any empty world grid - why this sequence?\n",
        "        #\n",
        "        # make part of grid? sets y dimension?\n",
        "        self.grid = [None] * size_y\n",
        "        # sets max size of world-grid\n",
        "        self.width = size_x        \n",
        "        self.height = size_y\n",
        "        # ? since grid was made, what does this do?\n",
        "        # sets x dimension?\n",
        "        for i in range( len(self.grid) ):\n",
        "            self.grid[i] = [None] * size_x\n",
        "        #\n",
        "        # # 2 lists for front end mapping\n",
        "        self.rooms_list = []\n",
        "        self.doors_list = []\n",
        "\n",
        "        # Start from lower-left corner (0,0)\n",
        "        x = -1 # (this will become 0 on the first step)\n",
        "        y = 0\n",
        "\n",
        "        # keeping values for comparison\n",
        "        previous_id_tuple = None\n",
        "        previous_room = None\n",
        "        previous_direction = None\n",
        "\n",
        "        # up to max number of rooms\n",
        "        room_count = 0\n",
        "\n",
        "        # move these out of the while loop\n",
        "        import random\n",
        "        # standard room types\n",
        "        r_long_hallway = (\"Long Hallway\", \"This hallway is very long. Be careful.\")\n",
        "        r_short_hallway = (\"Short Hallway\", \"This hallway is not very long. Be very careful.\")\n",
        "        r_medium_hallway = (\"Medium Hallway\", \"This hallway is... Be very careful.\")\n",
        "        r_stone_room = (\"stone room\", \"This stone room is dark. Be careful.\")\n",
        "        r_wooden_room = (\"wooden_room\", \"The wooden room is very...woodish.\")\n",
        "        r_swimming_pool = (\"Swimming Pool\", \"This looks like a great place to swim...is that a giant squid?\")\n",
        "        r_library = (\"library\", \"This library is very bright and quiet.\")\n",
        "        r_storage_room = (\"storage_room\", \"This storage room is full of things.\")\n",
        "        r_kitchen = (\"Kitchen\", \"This room is full of cooking supplies.\")\n",
        "        r_dungeon_cell = (\"Dungeon Cell\", \"This room looks like a prison cell.\")\n",
        "        r_server_room = (\"Dungeon Server Wearhouse\", \"This where the monsters keep their servers.\")\n",
        "        r_banquet_room = (\"Banquet Room\", \"This looks like a room for large events.\")\n",
        "        r_nest = (\"Nest\", \"This looks web filled nest for some kind of creature.\")\n",
        "        r_armory = (\"Armory\", \"This stone room is full of arms. To Arms!\")\n",
        "        r_cave = (\"Cave\", \"This stone room looks to be a natural cave opening.\")\n",
        "        r_mine = (\"Mine\", \"This area looks to be mine set up to find coal, iron, diamonds...and redstone...Punch a tree and get your torches ready!\")\n",
        "        r_office = (\"Office\", \"This room looks like a basement office at the state department.\")           \n",
        "        r_walk_in_closet = (\"Walk In Closet\", \"This room is a huge walk-in-closet. There's clothing everywhere!\")\n",
        "\n",
        "        # List of possible room types of Rooms\n",
        "        room_type_list = [r_long_hallway, r_medium_hallway, r_short_hallway, r_stone_room, r_wooden_room, r_swimming_pool, r_library, r_storage_room, r_kitchen, r_dungeon_cell, r_server_room, r_banquet_room, r_nest, r_armory, r_mine, r_office, r_walk_in_closet]\n",
        "\n",
        "        # set values\n",
        "        x = 0\n",
        "        y = 0\n",
        "\n",
        "        current_direction = 'n'\n",
        "\n",
        "        # while look for making rooms\n",
        "        # Random walk through grid of rooms, \n",
        "        # any direction except backwards\n",
        "        while room_count < num_rooms:\n",
        "\n",
        "            # randomly pick room type\n",
        "            this_room_type = random.choice(room_type_list)\n",
        "\n",
        "            # # inspection\n",
        "            # print(this_room_type)\n",
        "\n",
        "            # previous_room_direction = reverse_dirs[current_direction]\n",
        "            possible_directions = ['n', 's', 'e' ,'w']\n",
        "            # starts with a random choice:\n",
        "            current_direction = random.choice(possible_directions)\n",
        "\n",
        "            # save old values\n",
        "            x_old = x\n",
        "            y_old = y\n",
        "\n",
        "            # save the location of the past room\n",
        "            past_room = (x,y)\n",
        "\n",
        "            # \"don't go out of bounds\"\n",
        "            # check to make sure not out of bounds\n",
        "            # while out of bounds, keep trying again for a not-out option\n",
        "            while (x >= size_x - 1) or (y >= size_y - 1) or (x < 0) or (y < 0) or ((x,y) == past_room) or ((x,y) == (0,0)):\n",
        "                # save old values\n",
        "                x = x_old\n",
        "                y = y_old\n",
        "\n",
        "                # starts with a random choice:\n",
        "                current_direction = random.choice(possible_directions)\n",
        "                if current_direction == 'n':\n",
        "                    y += 1\n",
        "                if current_direction == 's':\n",
        "                    y -= 1\n",
        "                if current_direction == 'e':\n",
        "                    x += 1\n",
        "                if current_direction == 'w':\n",
        "                    x -= 1\n",
        "            \n",
        "            # # inspection\n",
        "            # print(\"room picked\", x,y)\n",
        "\n",
        "            # look for a previously made room (where you are looking \n",
        "            # to make a new room)\n",
        "            # if not (already one there), make a new room\n",
        "            if self.grid[y][x] is None:\n",
        "                # Create a room in the given direction, sort of\n",
        "                # save the inputs into a list it to run in shell later\n",
        "\n",
        "                # \n",
        "                input_mask = [room_count, this_room_type[0], this_room_type[1], x, y]\n",
        "                self.room_object_input_list.extend( [input_mask] )\n",
        "\n",
        "\n",
        "                # sets previous reverse room direction\n",
        "                reverse_dirs = {\"n\": \"s\", \"s\": \"n\", \"e\": \"w\", \"w\": \"e\"}\n",
        "                reverse_direction = reverse_dirs[current_direction] \n",
        "                self.direction_list.extend( [[current_direction, reverse_direction]] )\n",
        "\n",
        "                # make room for grid\n",
        "                room = Room_maker(room_count, this_room_type[0], this_room_type[1], x, y)\n",
        "                # room = Room(room_count, this_room_type[0], this_room_type[1])\n",
        "                # room = Room(room_count, this_room_type[0], this_room_type[1], x, y)   \n",
        "\n",
        "                # Save the room in the World grid\n",
        "                self.grid[y][x] = room\n",
        "                # update room counter, only if a new room is made\n",
        "                room_count += 1\n",
        "                # add room to room list:\n",
        "                mask_dict = {'x':x, 'y':y}\n",
        "                self.rooms_list.extend([mask_dict])\n",
        "\n",
        "                # # inspection\n",
        "                # print(\"mask dict\", mask_dict)\n",
        "                # print(\"x,y\", x,y)\n",
        "\n",
        "            # sets previous reverse room direction\n",
        "            reverse_dirs = {\"n\": \"s\", \"s\": \"n\", \"e\": \"w\", \"w\": \"e\"}\n",
        "            previous_room_direction = reverse_dirs[current_direction]\n",
        "\n",
        "            # either way: Connect the new room to the previous room\n",
        "            if previous_room is not None:\n",
        "                # connect to the previous room...in DB\n",
        "                previous_room.connect_rooms(room, previous_room_direction)\n",
        "                room.connect_rooms(previous_room, current_direction)\n",
        "                # \n",
        "                # connect to the previous room...in room maker\n",
        "\n",
        "\n",
        "                # doors list: add room to list:\n",
        "                mask = [{'x': int(room.x), 'y': int(room.y)}, {'x': int(previous_room.x), 'y': int(previous_room.y)}]\n",
        "                self.doors_list.extend([mask])\n",
        "\n",
        "                # # inspection\n",
        "                # print(mask)\n",
        "\n",
        "            # Update iteration variables\n",
        "            previous_room = room\n",
        "\n",
        "            # inspection\n",
        "            # print(\"room count\", room_count)\n",
        "\n",
        "            # # save room to django datatable\n",
        "            # room.save()\n",
        "            self.json_map_bundle = {\"rooms\": self.rooms_list, \"doors\": self.doors_list}\n",
        "            #print(room_count)\n",
        "\n",
        "\n",
        "# # generate world:\n",
        "# # set input values\n",
        "w = World()\n",
        "num_rooms = 100\n",
        "width = 20\n",
        "height = 20\n",
        "w.generate_rooms(width, height, num_rooms)\n",
        "#\n",
        "# inspection\n",
        "# print(w.rooms_list)\n",
        "# print(w.doors_list)\n",
        "print(w.json_map_bundle)\n",
        "# Where will these files be stored for later extraction?\n",
        "print(w.room_object_input_list)\n",
        "print(w.direction_list)"
      ],
      "execution_count": 24,
      "outputs": [
        {
          "output_type": "stream",
          "text": [
            "{'rooms': [{'x': 1, 'y': 0}, {'x': 1, 'y': 1}, {'x': 0, 'y': 1}, {'x': 0, 'y': 2}, {'x': 1, 'y': 2}, {'x': 2, 'y': 0}, {'x': 3, 'y': 0}, {'x': 3, 'y': 1}, {'x': 3, 'y': 2}, {'x': 2, 'y': 2}, {'x': 2, 'y': 3}, {'x': 3, 'y': 3}, {'x': 4, 'y': 2}, {'x': 2, 'y': 1}, {'x': 4, 'y': 1}, {'x': 5, 'y': 1}, {'x': 5, 'y': 0}, {'x': 6, 'y': 1}, {'x': 6, 'y': 0}, {'x': 4, 'y': 0}, {'x': 4, 'y': 3}, {'x': 5, 'y': 2}, {'x': 5, 'y': 3}, {'x': 2, 'y': 4}, {'x': 2, 'y': 5}, {'x': 2, 'y': 6}, {'x': 2, 'y': 7}, {'x': 1, 'y': 7}, {'x': 1, 'y': 6}, {'x': 0, 'y': 6}, {'x': 0, 'y': 5}, {'x': 0, 'y': 4}, {'x': 1, 'y': 4}, {'x': 1, 'y': 5}, {'x': 1, 'y': 3}, {'x': 6, 'y': 3}, {'x': 6, 'y': 2}, {'x': 7, 'y': 2}, {'x': 7, 'y': 3}, {'x': 8, 'y': 3}, {'x': 8, 'y': 4}, {'x': 8, 'y': 2}, {'x': 9, 'y': 2}, {'x': 9, 'y': 3}, {'x': 5, 'y': 4}, {'x': 6, 'y': 4}, {'x': 6, 'y': 5}, {'x': 6, 'y': 6}, {'x': 7, 'y': 6}, {'x': 7, 'y': 5}, {'x': 5, 'y': 6}, {'x': 6, 'y': 7}, {'x': 5, 'y': 7}, {'x': 7, 'y': 7}, {'x': 8, 'y': 5}, {'x': 9, 'y': 4}, {'x': 7, 'y': 1}, {'x': 7, 'y': 0}, {'x': 4, 'y': 4}, {'x': 5, 'y': 5}, {'x': 4, 'y': 5}, {'x': 3, 'y': 4}, {'x': 3, 'y': 5}, {'x': 3, 'y': 6}, {'x': 4, 'y': 6}, {'x': 4, 'y': 7}, {'x': 4, 'y': 8}, {'x': 4, 'y': 9}, {'x': 5, 'y': 9}, {'x': 6, 'y': 9}, {'x': 6, 'y': 10}, {'x': 6, 'y': 11}, {'x': 7, 'y': 11}, {'x': 6, 'y': 12}, {'x': 6, 'y': 13}, {'x': 6, 'y': 14}, {'x': 7, 'y': 14}, {'x': 7, 'y': 15}, {'x': 6, 'y': 15}, {'x': 7, 'y': 13}, {'x': 8, 'y': 13}, {'x': 9, 'y': 13}, {'x': 7, 'y': 12}, {'x': 8, 'y': 11}, {'x': 9, 'y': 11}, {'x': 9, 'y': 10}, {'x': 9, 'y': 12}, {'x': 8, 'y': 10}, {'x': 7, 'y': 10}, {'x': 5, 'y': 11}, {'x': 5, 'y': 12}, {'x': 4, 'y': 11}, {'x': 4, 'y': 12}, {'x': 7, 'y': 9}, {'x': 6, 'y': 8}, {'x': 7, 'y': 8}, {'x': 5, 'y': 10}, {'x': 3, 'y': 12}, {'x': 3, 'y': 11}, {'x': 2, 'y': 11}], 'doors': [[{'x': 1, 'y': 1}, {'x': 1, 'y': 0}], [{'x': 1, 'y': 1}, {'x': 1, 'y': 1}], [{'x': 1, 'y': 1}, {'x': 1, 'y': 1}], [{'x': 0, 'y': 1}, {'x': 1, 'y': 1}], [{'x': 0, 'y': 2}, {'x': 0, 'y': 1}], [{'x': 1, 'y': 2}, {'x': 0, 'y': 2}], [{'x': 1, 'y': 2}, {'x': 1, 'y': 2}], [{'x': 1, 'y': 2}, {'x': 1, 'y': 2}], [{'x': 1, 'y': 2}, {'x': 1, 'y': 2}], [{'x': 1, 'y': 2}, {'x': 1, 'y': 2}], [{'x': 2, 'y': 0}, {'x': 1, 'y': 2}], [{'x': 3, 'y': 0}, {'x': 2, 'y': 0}], [{'x': 3, 'y': 1}, {'x': 3, 'y': 0}], [{'x': 3, 'y': 2}, {'x': 3, 'y': 1}], [{'x': 2, 'y': 2}, {'x': 3, 'y': 2}], [{'x': 2, 'y': 3}, {'x': 2, 'y': 2}], [{'x': 3, 'y': 3}, {'x': 2, 'y': 3}], [{'x': 3, 'y': 3}, {'x': 3, 'y': 3}], [{'x': 4, 'y': 2}, {'x': 3, 'y': 3}], [{'x': 4, 'y': 2}, {'x': 4, 'y': 2}], [{'x': 4, 'y': 2}, {'x': 4, 'y': 2}], [{'x': 4, 'y': 2}, {'x': 4, 'y': 2}], [{'x': 4, 'y': 2}, {'x': 4, 'y': 2}], [{'x': 4, 'y': 2}, {'x': 4, 'y': 2}], [{'x': 4, 'y': 2}, {'x': 4, 'y': 2}], [{'x': 2, 'y': 1}, {'x': 4, 'y': 2}], [{'x': 2, 'y': 1}, {'x': 2, 'y': 1}], [{'x': 2, 'y': 1}, {'x': 2, 'y': 1}], [{'x': 2, 'y': 1}, {'x': 2, 'y': 1}], [{'x': 2, 'y': 1}, {'x': 2, 'y': 1}], [{'x': 2, 'y': 1}, {'x': 2, 'y': 1}], [{'x': 2, 'y': 1}, {'x': 2, 'y': 1}], [{'x': 2, 'y': 1}, {'x': 2, 'y': 1}], [{'x': 4, 'y': 1}, {'x': 2, 'y': 1}], [{'x': 5, 'y': 1}, {'x': 4, 'y': 1}], [{'x': 5, 'y': 0}, {'x': 5, 'y': 1}], [{'x': 5, 'y': 0}, {'x': 5, 'y': 0}], [{'x': 5, 'y': 0}, {'x': 5, 'y': 0}], [{'x': 5, 'y': 0}, {'x': 5, 'y': 0}], [{'x': 6, 'y': 1}, {'x': 5, 'y': 0}], [{'x': 6, 'y': 1}, {'x': 6, 'y': 1}], [{'x': 6, 'y': 1}, {'x': 6, 'y': 1}], [{'x': 6, 'y': 0}, {'x': 6, 'y': 1}], [{'x': 6, 'y': 0}, {'x': 6, 'y': 0}], [{'x': 6, 'y': 0}, {'x': 6, 'y': 0}], [{'x': 6, 'y': 0}, {'x': 6, 'y': 0}], [{'x': 4, 'y': 0}, {'x': 6, 'y': 0}], [{'x': 4, 'y': 0}, {'x': 4, 'y': 0}], [{'x': 4, 'y': 0}, {'x': 4, 'y': 0}], [{'x': 4, 'y': 3}, {'x': 4, 'y': 0}], [{'x': 4, 'y': 3}, {'x': 4, 'y': 3}], [{'x': 4, 'y': 3}, {'x': 4, 'y': 3}], [{'x': 4, 'y': 3}, {'x': 4, 'y': 3}], [{'x': 5, 'y': 2}, {'x': 4, 'y': 3}], [{'x': 5, 'y': 2}, {'x': 5, 'y': 2}], [{'x': 5, 'y': 2}, {'x': 5, 'y': 2}], [{'x': 5, 'y': 2}, {'x': 5, 'y': 2}], [{'x': 5, 'y': 2}, {'x': 5, 'y': 2}], [{'x': 5, 'y': 2}, {'x': 5, 'y': 2}], [{'x': 5, 'y': 2}, {'x': 5, 'y': 2}], [{'x': 5, 'y': 2}, {'x': 5, 'y': 2}], [{'x': 5, 'y': 2}, {'x': 5, 'y': 2}], [{'x': 5, 'y': 2}, {'x': 5, 'y': 2}], [{'x': 5, 'y': 2}, {'x': 5, 'y': 2}], [{'x': 5, 'y': 3}, {'x': 5, 'y': 2}], [{'x': 5, 'y': 3}, {'x': 5, 'y': 3}], [{'x': 5, 'y': 3}, {'x': 5, 'y': 3}], [{'x': 5, 'y': 3}, {'x': 5, 'y': 3}], [{'x': 5, 'y': 3}, {'x': 5, 'y': 3}], [{'x': 5, 'y': 3}, {'x': 5, 'y': 3}], [{'x': 2, 'y': 4}, {'x': 5, 'y': 3}], [{'x': 2, 'y': 5}, {'x': 2, 'y': 4}], [{'x': 2, 'y': 6}, {'x': 2, 'y': 5}], [{'x': 2, 'y': 7}, {'x': 2, 'y': 6}], [{'x': 1, 'y': 7}, {'x': 2, 'y': 7}], [{'x': 1, 'y': 6}, {'x': 1, 'y': 7}], [{'x': 0, 'y': 6}, {'x': 1, 'y': 6}], [{'x': 0, 'y': 5}, {'x': 0, 'y': 6}], [{'x': 0, 'y': 4}, {'x': 0, 'y': 5}], [{'x': 1, 'y': 4}, {'x': 0, 'y': 4}], [{'x': 1, 'y': 5}, {'x': 1, 'y': 4}], [{'x': 1, 'y': 5}, {'x': 1, 'y': 5}], [{'x': 1, 'y': 5}, {'x': 1, 'y': 5}], [{'x': 1, 'y': 5}, {'x': 1, 'y': 5}], [{'x': 1, 'y': 3}, {'x': 1, 'y': 5}], [{'x': 1, 'y': 3}, {'x': 1, 'y': 3}], [{'x': 1, 'y': 3}, {'x': 1, 'y': 3}], [{'x': 1, 'y': 3}, {'x': 1, 'y': 3}], [{'x': 1, 'y': 3}, {'x': 1, 'y': 3}], [{'x': 1, 'y': 3}, {'x': 1, 'y': 3}], [{'x': 1, 'y': 3}, {'x': 1, 'y': 3}], [{'x': 1, 'y': 3}, {'x': 1, 'y': 3}], [{'x': 1, 'y': 3}, {'x': 1, 'y': 3}], [{'x': 1, 'y': 3}, {'x': 1, 'y': 3}], [{'x': 1, 'y': 3}, {'x': 1, 'y': 3}], [{'x': 6, 'y': 3}, {'x': 1, 'y': 3}], [{'x': 6, 'y': 2}, {'x': 6, 'y': 3}], [{'x': 6, 'y': 2}, {'x': 6, 'y': 2}], [{'x': 6, 'y': 2}, {'x': 6, 'y': 2}], [{'x': 6, 'y': 2}, {'x': 6, 'y': 2}], [{'x': 6, 'y': 2}, {'x': 6, 'y': 2}], [{'x': 6, 'y': 2}, {'x': 6, 'y': 2}], [{'x': 6, 'y': 2}, {'x': 6, 'y': 2}], [{'x': 6, 'y': 2}, {'x': 6, 'y': 2}], [{'x': 6, 'y': 2}, {'x': 6, 'y': 2}], [{'x': 6, 'y': 2}, {'x': 6, 'y': 2}], [{'x': 6, 'y': 2}, {'x': 6, 'y': 2}], [{'x': 6, 'y': 2}, {'x': 6, 'y': 2}], [{'x': 6, 'y': 2}, {'x': 6, 'y': 2}], [{'x': 6, 'y': 2}, {'x': 6, 'y': 2}], [{'x': 6, 'y': 2}, {'x': 6, 'y': 2}], [{'x': 6, 'y': 2}, {'x': 6, 'y': 2}], [{'x': 6, 'y': 2}, {'x': 6, 'y': 2}], [{'x': 6, 'y': 2}, {'x': 6, 'y': 2}], [{'x': 6, 'y': 2}, {'x': 6, 'y': 2}], [{'x': 6, 'y': 2}, {'x': 6, 'y': 2}], [{'x': 6, 'y': 2}, {'x': 6, 'y': 2}], [{'x': 7, 'y': 2}, {'x': 6, 'y': 2}], [{'x': 7, 'y': 3}, {'x': 7, 'y': 2}], [{'x': 8, 'y': 3}, {'x': 7, 'y': 3}], [{'x': 8, 'y': 4}, {'x': 8, 'y': 3}], [{'x': 8, 'y': 4}, {'x': 8, 'y': 4}], [{'x': 8, 'y': 2}, {'x': 8, 'y': 4}], [{'x': 9, 'y': 2}, {'x': 8, 'y': 2}], [{'x': 9, 'y': 3}, {'x': 9, 'y': 2}], [{'x': 9, 'y': 3}, {'x': 9, 'y': 3}], [{'x': 9, 'y': 3}, {'x': 9, 'y': 3}], [{'x': 9, 'y': 3}, {'x': 9, 'y': 3}], [{'x': 9, 'y': 3}, {'x': 9, 'y': 3}], [{'x': 5, 'y': 4}, {'x': 9, 'y': 3}], [{'x': 6, 'y': 4}, {'x': 5, 'y': 4}], [{'x': 6, 'y': 4}, {'x': 6, 'y': 4}], [{'x': 6, 'y': 4}, {'x': 6, 'y': 4}], [{'x': 6, 'y': 5}, {'x': 6, 'y': 4}], [{'x': 6, 'y': 6}, {'x': 6, 'y': 5}], [{'x': 7, 'y': 6}, {'x': 6, 'y': 6}], [{'x': 7, 'y': 5}, {'x': 7, 'y': 6}], [{'x': 7, 'y': 5}, {'x': 7, 'y': 5}], [{'x': 7, 'y': 5}, {'x': 7, 'y': 5}], [{'x': 5, 'y': 6}, {'x': 7, 'y': 5}], [{'x': 5, 'y': 6}, {'x': 5, 'y': 6}], [{'x': 6, 'y': 7}, {'x': 5, 'y': 6}], [{'x': 5, 'y': 7}, {'x': 6, 'y': 7}], [{'x': 5, 'y': 7}, {'x': 5, 'y': 7}], [{'x': 5, 'y': 7}, {'x': 5, 'y': 7}], [{'x': 5, 'y': 7}, {'x': 5, 'y': 7}], [{'x': 7, 'y': 7}, {'x': 5, 'y': 7}], [{'x': 7, 'y': 7}, {'x': 7, 'y': 7}], [{'x': 7, 'y': 7}, {'x': 7, 'y': 7}], [{'x': 7, 'y': 7}, {'x': 7, 'y': 7}], [{'x': 7, 'y': 7}, {'x': 7, 'y': 7}], [{'x': 8, 'y': 5}, {'x': 7, 'y': 7}], [{'x': 8, 'y': 5}, {'x': 8, 'y': 5}], [{'x': 9, 'y': 4}, {'x': 8, 'y': 5}], [{'x': 9, 'y': 4}, {'x': 9, 'y': 4}], [{'x': 9, 'y': 4}, {'x': 9, 'y': 4}], [{'x': 9, 'y': 4}, {'x': 9, 'y': 4}], [{'x': 9, 'y': 4}, {'x': 9, 'y': 4}], [{'x': 9, 'y': 4}, {'x': 9, 'y': 4}], [{'x': 9, 'y': 4}, {'x': 9, 'y': 4}], [{'x': 9, 'y': 4}, {'x': 9, 'y': 4}], [{'x': 9, 'y': 4}, {'x': 9, 'y': 4}], [{'x': 9, 'y': 4}, {'x': 9, 'y': 4}], [{'x': 9, 'y': 4}, {'x': 9, 'y': 4}], [{'x': 9, 'y': 4}, {'x': 9, 'y': 4}], [{'x': 9, 'y': 4}, {'x': 9, 'y': 4}], [{'x': 9, 'y': 4}, {'x': 9, 'y': 4}], [{'x': 9, 'y': 4}, {'x': 9, 'y': 4}], [{'x': 9, 'y': 4}, {'x': 9, 'y': 4}], [{'x': 9, 'y': 4}, {'x': 9, 'y': 4}], [{'x': 9, 'y': 4}, {'x': 9, 'y': 4}], [{'x': 9, 'y': 4}, {'x': 9, 'y': 4}], [{'x': 9, 'y': 4}, {'x': 9, 'y': 4}], [{'x': 9, 'y': 4}, {'x': 9, 'y': 4}], [{'x': 9, 'y': 4}, {'x': 9, 'y': 4}], [{'x': 9, 'y': 4}, {'x': 9, 'y': 4}], [{'x': 9, 'y': 4}, {'x': 9, 'y': 4}], [{'x': 9, 'y': 4}, {'x': 9, 'y': 4}], [{'x': 9, 'y': 4}, {'x': 9, 'y': 4}], [{'x': 9, 'y': 4}, {'x': 9, 'y': 4}], [{'x': 9, 'y': 4}, {'x': 9, 'y': 4}], [{'x': 9, 'y': 4}, {'x': 9, 'y': 4}], [{'x': 7, 'y': 1}, {'x': 9, 'y': 4}], [{'x': 7, 'y': 0}, {'x': 7, 'y': 1}], [{'x': 7, 'y': 0}, {'x': 7, 'y': 0}], [{'x': 7, 'y': 0}, {'x': 7, 'y': 0}], [{'x': 7, 'y': 0}, {'x': 7, 'y': 0}], [{'x': 7, 'y': 0}, {'x': 7, 'y': 0}], [{'x': 7, 'y': 0}, {'x': 7, 'y': 0}], [{'x': 7, 'y': 0}, {'x': 7, 'y': 0}], [{'x': 7, 'y': 0}, {'x': 7, 'y': 0}], [{'x': 7, 'y': 0}, {'x': 7, 'y': 0}], [{'x': 7, 'y': 0}, {'x': 7, 'y': 0}], [{'x': 7, 'y': 0}, {'x': 7, 'y': 0}], [{'x': 7, 'y': 0}, {'x': 7, 'y': 0}], [{'x': 7, 'y': 0}, {'x': 7, 'y': 0}], [{'x': 7, 'y': 0}, {'x': 7, 'y': 0}], [{'x': 7, 'y': 0}, {'x': 7, 'y': 0}], [{'x': 7, 'y': 0}, {'x': 7, 'y': 0}], [{'x': 7, 'y': 0}, {'x': 7, 'y': 0}], [{'x': 7, 'y': 0}, {'x': 7, 'y': 0}], [{'x': 7, 'y': 0}, {'x': 7, 'y': 0}], [{'x': 7, 'y': 0}, {'x': 7, 'y': 0}], [{'x': 7, 'y': 0}, {'x': 7, 'y': 0}], [{'x': 7, 'y': 0}, {'x': 7, 'y': 0}], [{'x': 7, 'y': 0}, {'x': 7, 'y': 0}], [{'x': 7, 'y': 0}, {'x': 7, 'y': 0}], [{'x': 7, 'y': 0}, {'x': 7, 'y': 0}], [{'x': 7, 'y': 0}, {'x': 7, 'y': 0}], [{'x': 7, 'y': 0}, {'x': 7, 'y': 0}], [{'x': 7, 'y': 0}, {'x': 7, 'y': 0}], [{'x': 7, 'y': 0}, {'x': 7, 'y': 0}], [{'x': 7, 'y': 0}, {'x': 7, 'y': 0}], [{'x': 7, 'y': 0}, {'x': 7, 'y': 0}], [{'x': 4, 'y': 4}, {'x': 7, 'y': 0}], [{'x': 4, 'y': 4}, {'x': 4, 'y': 4}], [{'x': 4, 'y': 4}, {'x': 4, 'y': 4}], [{'x': 4, 'y': 4}, {'x': 4, 'y': 4}], [{'x': 4, 'y': 4}, {'x': 4, 'y': 4}], [{'x': 4, 'y': 4}, {'x': 4, 'y': 4}], [{'x': 5, 'y': 5}, {'x': 4, 'y': 4}], [{'x': 4, 'y': 5}, {'x': 5, 'y': 5}], [{'x': 4, 'y': 5}, {'x': 4, 'y': 5}], [{'x': 3, 'y': 4}, {'x': 4, 'y': 5}], [{'x': 3, 'y': 5}, {'x': 3, 'y': 4}], [{'x': 3, 'y': 5}, {'x': 3, 'y': 5}], [{'x': 3, 'y': 5}, {'x': 3, 'y': 5}], [{'x': 3, 'y': 6}, {'x': 3, 'y': 5}], [{'x': 3, 'y': 6}, {'x': 3, 'y': 6}], [{'x': 3, 'y': 6}, {'x': 3, 'y': 6}], [{'x': 3, 'y': 6}, {'x': 3, 'y': 6}], [{'x': 3, 'y': 6}, {'x': 3, 'y': 6}], [{'x': 3, 'y': 6}, {'x': 3, 'y': 6}], [{'x': 3, 'y': 6}, {'x': 3, 'y': 6}], [{'x': 3, 'y': 6}, {'x': 3, 'y': 6}], [{'x': 3, 'y': 6}, {'x': 3, 'y': 6}], [{'x': 3, 'y': 6}, {'x': 3, 'y': 6}], [{'x': 3, 'y': 6}, {'x': 3, 'y': 6}], [{'x': 3, 'y': 6}, {'x': 3, 'y': 6}], [{'x': 3, 'y': 6}, {'x': 3, 'y': 6}], [{'x': 3, 'y': 6}, {'x': 3, 'y': 6}], [{'x': 3, 'y': 6}, {'x': 3, 'y': 6}], [{'x': 3, 'y': 6}, {'x': 3, 'y': 6}], [{'x': 3, 'y': 6}, {'x': 3, 'y': 6}], [{'x': 3, 'y': 6}, {'x': 3, 'y': 6}], [{'x': 3, 'y': 6}, {'x': 3, 'y': 6}], [{'x': 3, 'y': 6}, {'x': 3, 'y': 6}], [{'x': 3, 'y': 6}, {'x': 3, 'y': 6}], [{'x': 3, 'y': 6}, {'x': 3, 'y': 6}], [{'x': 3, 'y': 6}, {'x': 3, 'y': 6}], [{'x': 3, 'y': 6}, {'x': 3, 'y': 6}], [{'x': 3, 'y': 6}, {'x': 3, 'y': 6}], [{'x': 3, 'y': 6}, {'x': 3, 'y': 6}], [{'x': 3, 'y': 6}, {'x': 3, 'y': 6}], [{'x': 3, 'y': 6}, {'x': 3, 'y': 6}], [{'x': 3, 'y': 6}, {'x': 3, 'y': 6}], [{'x': 3, 'y': 6}, {'x': 3, 'y': 6}], [{'x': 3, 'y': 6}, {'x': 3, 'y': 6}], [{'x': 3, 'y': 6}, {'x': 3, 'y': 6}], [{'x': 3, 'y': 6}, {'x': 3, 'y': 6}], [{'x': 4, 'y': 6}, {'x': 3, 'y': 6}], [{'x': 4, 'y': 7}, {'x': 4, 'y': 6}], [{'x': 4, 'y': 8}, {'x': 4, 'y': 7}], [{'x': 4, 'y': 8}, {'x': 4, 'y': 8}], [{'x': 4, 'y': 8}, {'x': 4, 'y': 8}], [{'x': 4, 'y': 9}, {'x': 4, 'y': 8}], [{'x': 5, 'y': 9}, {'x': 4, 'y': 9}], [{'x': 6, 'y': 9}, {'x': 5, 'y': 9}], [{'x': 6, 'y': 10}, {'x': 6, 'y': 9}], [{'x': 6, 'y': 11}, {'x': 6, 'y': 10}], [{'x': 7, 'y': 11}, {'x': 6, 'y': 11}], [{'x': 7, 'y': 11}, {'x': 7, 'y': 11}], [{'x': 6, 'y': 12}, {'x': 7, 'y': 11}], [{'x': 6, 'y': 13}, {'x': 6, 'y': 12}], [{'x': 6, 'y': 14}, {'x': 6, 'y': 13}], [{'x': 7, 'y': 14}, {'x': 6, 'y': 14}], [{'x': 7, 'y': 15}, {'x': 7, 'y': 14}], [{'x': 6, 'y': 15}, {'x': 7, 'y': 15}], [{'x': 6, 'y': 15}, {'x': 6, 'y': 15}], [{'x': 6, 'y': 15}, {'x': 6, 'y': 15}], [{'x': 7, 'y': 13}, {'x': 6, 'y': 15}], [{'x': 8, 'y': 13}, {'x': 7, 'y': 13}], [{'x': 9, 'y': 13}, {'x': 8, 'y': 13}], [{'x': 9, 'y': 13}, {'x': 9, 'y': 13}], [{'x': 9, 'y': 13}, {'x': 9, 'y': 13}], [{'x': 9, 'y': 13}, {'x': 9, 'y': 13}], [{'x': 9, 'y': 13}, {'x': 9, 'y': 13}], [{'x': 9, 'y': 13}, {'x': 9, 'y': 13}], [{'x': 9, 'y': 13}, {'x': 9, 'y': 13}], [{'x': 9, 'y': 13}, {'x': 9, 'y': 13}], [{'x': 9, 'y': 13}, {'x': 9, 'y': 13}], [{'x': 7, 'y': 12}, {'x': 9, 'y': 13}], [{'x': 7, 'y': 12}, {'x': 7, 'y': 12}], [{'x': 8, 'y': 11}, {'x': 7, 'y': 12}], [{'x': 9, 'y': 11}, {'x': 8, 'y': 11}], [{'x': 9, 'y': 10}, {'x': 9, 'y': 11}], [{'x': 9, 'y': 10}, {'x': 9, 'y': 10}], [{'x': 9, 'y': 10}, {'x': 9, 'y': 10}], [{'x': 9, 'y': 10}, {'x': 9, 'y': 10}], [{'x': 9, 'y': 10}, {'x': 9, 'y': 10}], [{'x': 9, 'y': 10}, {'x': 9, 'y': 10}], [{'x': 9, 'y': 12}, {'x': 9, 'y': 10}], [{'x': 9, 'y': 12}, {'x': 9, 'y': 12}], [{'x': 9, 'y': 12}, {'x': 9, 'y': 12}], [{'x': 8, 'y': 10}, {'x': 9, 'y': 12}], [{'x': 7, 'y': 10}, {'x': 8, 'y': 10}], [{'x': 7, 'y': 10}, {'x': 7, 'y': 10}], [{'x': 7, 'y': 10}, {'x': 7, 'y': 10}], [{'x': 7, 'y': 10}, {'x': 7, 'y': 10}], [{'x': 7, 'y': 10}, {'x': 7, 'y': 10}], [{'x': 5, 'y': 11}, {'x': 7, 'y': 10}], [{'x': 5, 'y': 12}, {'x': 5, 'y': 11}], [{'x': 5, 'y': 12}, {'x': 5, 'y': 12}], [{'x': 5, 'y': 12}, {'x': 5, 'y': 12}], [{'x': 5, 'y': 12}, {'x': 5, 'y': 12}], [{'x': 5, 'y': 12}, {'x': 5, 'y': 12}], [{'x': 5, 'y': 12}, {'x': 5, 'y': 12}], [{'x': 4, 'y': 11}, {'x': 5, 'y': 12}], [{'x': 4, 'y': 12}, {'x': 4, 'y': 11}], [{'x': 4, 'y': 12}, {'x': 4, 'y': 12}], [{'x': 4, 'y': 12}, {'x': 4, 'y': 12}], [{'x': 4, 'y': 12}, {'x': 4, 'y': 12}], [{'x': 4, 'y': 12}, {'x': 4, 'y': 12}], [{'x': 4, 'y': 12}, {'x': 4, 'y': 12}], [{'x': 4, 'y': 12}, {'x': 4, 'y': 12}], [{'x': 4, 'y': 12}, {'x': 4, 'y': 12}], [{'x': 7, 'y': 9}, {'x': 4, 'y': 12}], [{'x': 7, 'y': 9}, {'x': 7, 'y': 9}], [{'x': 7, 'y': 9}, {'x': 7, 'y': 9}], [{'x': 7, 'y': 9}, {'x': 7, 'y': 9}], [{'x': 6, 'y': 8}, {'x': 7, 'y': 9}], [{'x': 6, 'y': 8}, {'x': 6, 'y': 8}], [{'x': 6, 'y': 8}, {'x': 6, 'y': 8}], [{'x': 6, 'y': 8}, {'x': 6, 'y': 8}], [{'x': 6, 'y': 8}, {'x': 6, 'y': 8}], [{'x': 7, 'y': 8}, {'x': 6, 'y': 8}], [{'x': 7, 'y': 8}, {'x': 7, 'y': 8}], [{'x': 7, 'y': 8}, {'x': 7, 'y': 8}], [{'x': 7, 'y': 8}, {'x': 7, 'y': 8}], [{'x': 5, 'y': 10}, {'x': 7, 'y': 8}], [{'x': 5, 'y': 10}, {'x': 5, 'y': 10}], [{'x': 5, 'y': 10}, {'x': 5, 'y': 10}], [{'x': 5, 'y': 10}, {'x': 5, 'y': 10}], [{'x': 5, 'y': 10}, {'x': 5, 'y': 10}], [{'x': 5, 'y': 10}, {'x': 5, 'y': 10}], [{'x': 3, 'y': 12}, {'x': 5, 'y': 10}], [{'x': 3, 'y': 12}, {'x': 3, 'y': 12}], [{'x': 3, 'y': 12}, {'x': 3, 'y': 12}], [{'x': 3, 'y': 11}, {'x': 3, 'y': 12}], [{'x': 2, 'y': 11}, {'x': 3, 'y': 11}]]}\n",
            "[[0, 'Dungeon Server Wearhouse', 'This where the monsters keep their servers.', 1, 0], [1, 'library', 'This library is very bright and quiet.', 1, 1], [2, 'Banquet Room', 'This looks like a room for large events.', 0, 1], [3, 'Medium Hallway', 'This hallway is... Be very careful.', 0, 2], [4, 'Office', 'This room looks like a basement office at the state department.', 1, 2], [5, 'Office', 'This room looks like a basement office at the state department.', 2, 0], [6, 'Swimming Pool', 'This looks like a great place to swim...is that a giant squid?', 3, 0], [7, 'Dungeon Server Wearhouse', 'This where the monsters keep their servers.', 3, 1], [8, 'Dungeon Cell', 'This room looks like a prison cell.', 3, 2], [9, 'storage_room', 'This storage room is full of things.', 2, 2], [10, 'Walk In Closet', \"This room is a huge walk-in-closet. There's clothing everywhere!\", 2, 3], [11, 'Office', 'This room looks like a basement office at the state department.', 3, 3], [12, 'Swimming Pool', 'This looks like a great place to swim...is that a giant squid?', 4, 2], [13, 'Dungeon Server Wearhouse', 'This where the monsters keep their servers.', 2, 1], [14, 'Dungeon Server Wearhouse', 'This where the monsters keep their servers.', 4, 1], [15, 'Office', 'This room looks like a basement office at the state department.', 5, 1], [16, 'Kitchen', 'This room is full of cooking supplies.', 5, 0], [17, 'Medium Hallway', 'This hallway is... Be very careful.', 6, 1], [18, 'Office', 'This room looks like a basement office at the state department.', 6, 0], [19, 'Mine', 'This area looks to be mine set up to find coal, iron, diamonds...and redstone...Punch a tree and get your torches ready!', 4, 0], [20, 'Armory', 'This stone room is full of arms. To Arms!', 4, 3], [21, 'Nest', 'This looks web filled nest for some kind of creature.', 5, 2], [22, 'Medium Hallway', 'This hallway is... Be very careful.', 5, 3], [23, 'stone room', 'This stone room is dark. Be careful.', 2, 4], [24, 'Mine', 'This area looks to be mine set up to find coal, iron, diamonds...and redstone...Punch a tree and get your torches ready!', 2, 5], [25, 'Walk In Closet', \"This room is a huge walk-in-closet. There's clothing everywhere!\", 2, 6], [26, 'library', 'This library is very bright and quiet.', 2, 7], [27, 'Medium Hallway', 'This hallway is... Be very careful.', 1, 7], [28, 'Mine', 'This area looks to be mine set up to find coal, iron, diamonds...and redstone...Punch a tree and get your torches ready!', 1, 6], [29, 'library', 'This library is very bright and quiet.', 0, 6], [30, 'Kitchen', 'This room is full of cooking supplies.', 0, 5], [31, 'Kitchen', 'This room is full of cooking supplies.', 0, 4], [32, 'Medium Hallway', 'This hallway is... Be very careful.', 1, 4], [33, 'stone room', 'This stone room is dark. Be careful.', 1, 5], [34, 'Mine', 'This area looks to be mine set up to find coal, iron, diamonds...and redstone...Punch a tree and get your torches ready!', 1, 3], [35, 'stone room', 'This stone room is dark. Be careful.', 6, 3], [36, 'Kitchen', 'This room is full of cooking supplies.', 6, 2], [37, 'Dungeon Cell', 'This room looks like a prison cell.', 7, 2], [38, 'Dungeon Server Wearhouse', 'This where the monsters keep their servers.', 7, 3], [39, 'Dungeon Cell', 'This room looks like a prison cell.', 8, 3], [40, 'Banquet Room', 'This looks like a room for large events.', 8, 4], [41, 'Armory', 'This stone room is full of arms. To Arms!', 8, 2], [42, 'Walk In Closet', \"This room is a huge walk-in-closet. There's clothing everywhere!\", 9, 2], [43, 'Armory', 'This stone room is full of arms. To Arms!', 9, 3], [44, 'Medium Hallway', 'This hallway is... Be very careful.', 5, 4], [45, 'Long Hallway', 'This hallway is very long. Be careful.', 6, 4], [46, 'Nest', 'This looks web filled nest for some kind of creature.', 6, 5], [47, 'library', 'This library is very bright and quiet.', 6, 6], [48, 'Walk In Closet', \"This room is a huge walk-in-closet. There's clothing everywhere!\", 7, 6], [49, 'Mine', 'This area looks to be mine set up to find coal, iron, diamonds...and redstone...Punch a tree and get your torches ready!', 7, 5], [50, 'Office', 'This room looks like a basement office at the state department.', 5, 6], [51, 'Dungeon Cell', 'This room looks like a prison cell.', 6, 7], [52, 'Mine', 'This area looks to be mine set up to find coal, iron, diamonds...and redstone...Punch a tree and get your torches ready!', 5, 7], [53, 'Kitchen', 'This room is full of cooking supplies.', 7, 7], [54, 'Swimming Pool', 'This looks like a great place to swim...is that a giant squid?', 8, 5], [55, 'Mine', 'This area looks to be mine set up to find coal, iron, diamonds...and redstone...Punch a tree and get your torches ready!', 9, 4], [56, 'Dungeon Cell', 'This room looks like a prison cell.', 7, 1], [57, 'Banquet Room', 'This looks like a room for large events.', 7, 0], [58, 'Swimming Pool', 'This looks like a great place to swim...is that a giant squid?', 4, 4], [59, 'Banquet Room', 'This looks like a room for large events.', 5, 5], [60, 'wooden_room', 'The wooden room is very...woodish.', 4, 5], [61, 'Medium Hallway', 'This hallway is... Be very careful.', 3, 4], [62, 'Short Hallway', 'This hallway is not very long. Be very careful.', 3, 5], [63, 'Kitchen', 'This room is full of cooking supplies.', 3, 6], [64, 'Long Hallway', 'This hallway is very long. Be careful.', 4, 6], [65, 'Mine', 'This area looks to be mine set up to find coal, iron, diamonds...and redstone...Punch a tree and get your torches ready!', 4, 7], [66, 'Medium Hallway', 'This hallway is... Be very careful.', 4, 8], [67, 'Medium Hallway', 'This hallway is... Be very careful.', 4, 9], [68, 'Dungeon Cell', 'This room looks like a prison cell.', 5, 9], [69, 'Armory', 'This stone room is full of arms. To Arms!', 6, 9], [70, 'Mine', 'This area looks to be mine set up to find coal, iron, diamonds...and redstone...Punch a tree and get your torches ready!', 6, 10], [71, 'Armory', 'This stone room is full of arms. To Arms!', 6, 11], [72, 'storage_room', 'This storage room is full of things.', 7, 11], [73, 'Dungeon Cell', 'This room looks like a prison cell.', 6, 12], [74, 'wooden_room', 'The wooden room is very...woodish.', 6, 13], [75, 'Swimming Pool', 'This looks like a great place to swim...is that a giant squid?', 6, 14], [76, 'Long Hallway', 'This hallway is very long. Be careful.', 7, 14], [77, 'library', 'This library is very bright and quiet.', 7, 15], [78, 'Dungeon Server Wearhouse', 'This where the monsters keep their servers.', 6, 15], [79, 'Nest', 'This looks web filled nest for some kind of creature.', 7, 13], [80, 'Nest', 'This looks web filled nest for some kind of creature.', 8, 13], [81, 'wooden_room', 'The wooden room is very...woodish.', 9, 13], [82, 'Mine', 'This area looks to be mine set up to find coal, iron, diamonds...and redstone...Punch a tree and get your torches ready!', 7, 12], [83, 'Dungeon Cell', 'This room looks like a prison cell.', 8, 11], [84, 'stone room', 'This stone room is dark. Be careful.', 9, 11], [85, 'Armory', 'This stone room is full of arms. To Arms!', 9, 10], [86, 'Office', 'This room looks like a basement office at the state department.', 9, 12], [87, 'Nest', 'This looks web filled nest for some kind of creature.', 8, 10], [88, 'storage_room', 'This storage room is full of things.', 7, 10], [89, 'Mine', 'This area looks to be mine set up to find coal, iron, diamonds...and redstone...Punch a tree and get your torches ready!', 5, 11], [90, 'Dungeon Server Wearhouse', 'This where the monsters keep their servers.', 5, 12], [91, 'Dungeon Server Wearhouse', 'This where the monsters keep their servers.', 4, 11], [92, 'Short Hallway', 'This hallway is not very long. Be very careful.', 4, 12], [93, 'library', 'This library is very bright and quiet.', 7, 9], [94, 'Nest', 'This looks web filled nest for some kind of creature.', 6, 8], [95, 'Short Hallway', 'This hallway is not very long. Be very careful.', 7, 8], [96, 'Dungeon Cell', 'This room looks like a prison cell.', 5, 10], [97, 'Long Hallway', 'This hallway is very long. Be careful.', 3, 12], [98, 'Swimming Pool', 'This looks like a great place to swim...is that a giant squid?', 3, 11], [99, 'Walk In Closet', \"This room is a huge walk-in-closet. There's clothing everywhere!\", 2, 11]]\n",
            "[['e', 'w'], ['n', 's'], ['w', 'e'], ['n', 's'], ['e', 'w'], ['e', 'w'], ['e', 'w'], ['n', 's'], ['n', 's'], ['w', 'e'], ['n', 's'], ['e', 'w'], ['e', 'w'], ['w', 'e'], ['e', 'w'], ['e', 'w'], ['s', 'n'], ['e', 'w'], ['e', 'w'], ['w', 'e'], ['n', 's'], ['n', 's'], ['e', 'w'], ['n', 's'], ['n', 's'], ['n', 's'], ['n', 's'], ['w', 'e'], ['s', 'n'], ['w', 'e'], ['s', 'n'], ['s', 'n'], ['e', 'w'], ['n', 's'], ['s', 'n'], ['e', 'w'], ['s', 'n'], ['e', 'w'], ['n', 's'], ['e', 'w'], ['n', 's'], ['s', 'n'], ['e', 'w'], ['n', 's'], ['n', 's'], ['e', 'w'], ['n', 's'], ['n', 's'], ['e', 'w'], ['s', 'n'], ['w', 'e'], ['n', 's'], ['w', 'e'], ['n', 's'], ['e', 'w'], ['e', 'w'], ['e', 'w'], ['s', 'n'], ['w', 'e'], ['n', 's'], ['w', 'e'], ['w', 'e'], ['n', 's'], ['n', 's'], ['n', 's'], ['n', 's'], ['n', 's'], ['n', 's'], ['e', 'w'], ['e', 'w'], ['n', 's'], ['n', 's'], ['e', 'w'], ['n', 's'], ['n', 's'], ['n', 's'], ['e', 'w'], ['n', 's'], ['w', 'e'], ['s', 'n'], ['e', 'w'], ['e', 'w'], ['s', 'n'], ['e', 'w'], ['e', 'w'], ['s', 'n'], ['n', 's'], ['w', 'e'], ['w', 'e'], ['w', 'e'], ['n', 's'], ['w', 'e'], ['n', 's'], ['s', 'n'], ['s', 'n'], ['e', 'w'], ['w', 'e'], ['w', 'e'], ['s', 'n'], ['w', 'e']]\n"
          ],
          "name": "stdout"
        }
      ]
    },
    {
      "cell_type": "code",
      "metadata": {
        "id": "ZK2_75sVjjHp",
        "colab_type": "code",
        "colab": {
          "base_uri": "https://localhost:8080/",
          "height": 51
        },
        "outputId": "25c8c9d5-1766-4f2a-bffc-b0a589f638f6"
      },
      "source": [
        "print(len(w.room_object_input_list))\n",
        "print(len(w.direction_list))"
      ],
      "execution_count": 26,
      "outputs": [
        {
          "output_type": "stream",
          "text": [
            "100\n",
            "100\n"
          ],
          "name": "stdout"
        }
      ]
    },
    {
      "cell_type": "code",
      "metadata": {
        "id": "L676mZphcQxa",
        "colab_type": "code",
        "colab": {
          "base_uri": "https://localhost:8080/",
          "height": 51
        },
        "outputId": "5284316c-ef65-48c1-8684-ba20247011b3"
      },
      "source": [
        "print(len(room_object_input_list))\n",
        "print(len(direction_list))"
      ],
      "execution_count": 4,
      "outputs": [
        {
          "output_type": "stream",
          "text": [
            "100\n",
            "100\n"
          ],
          "name": "stdout"
        }
      ]
    },
    {
      "cell_type": "markdown",
      "metadata": {
        "id": "wdls_UdzfLIt",
        "colab_type": "text"
      },
      "source": [
        "# here here"
      ]
    },
    {
      "cell_type": "code",
      "metadata": {
        "id": "Dl7P1QQvi9z2",
        "colab_type": "code",
        "colab": {}
      },
      "source": [
        "json_map_bundle = {'rooms': [{'x': 1, 'y': 0}, {'x': 1, 'y': 1}, {'x': 0, 'y': 1}, {'x': 0, 'y': 2}, {'x': 1, 'y': 2}, {'x': 2, 'y': 0}, {'x': 3, 'y': 0}, {'x': 3, 'y': 1}, {'x': 3, 'y': 2}, {'x': 2, 'y': 2}, {'x': 2, 'y': 3}, {'x': 3, 'y': 3}, {'x': 4, 'y': 2}, {'x': 2, 'y': 1}, {'x': 4, 'y': 1}, {'x': 5, 'y': 1}, {'x': 5, 'y': 0}, {'x': 6, 'y': 1}, {'x': 6, 'y': 0}, {'x': 4, 'y': 0}, {'x': 4, 'y': 3}, {'x': 5, 'y': 2}, {'x': 5, 'y': 3}, {'x': 2, 'y': 4}, {'x': 2, 'y': 5}, {'x': 2, 'y': 6}, {'x': 2, 'y': 7}, {'x': 1, 'y': 7}, {'x': 1, 'y': 6}, {'x': 0, 'y': 6}, {'x': 0, 'y': 5}, {'x': 0, 'y': 4}, {'x': 1, 'y': 4}, {'x': 1, 'y': 5}, {'x': 1, 'y': 3}, {'x': 6, 'y': 3}, {'x': 6, 'y': 2}, {'x': 7, 'y': 2}, {'x': 7, 'y': 3}, {'x': 8, 'y': 3}, {'x': 8, 'y': 4}, {'x': 8, 'y': 2}, {'x': 9, 'y': 2}, {'x': 9, 'y': 3}, {'x': 5, 'y': 4}, {'x': 6, 'y': 4}, {'x': 6, 'y': 5}, {'x': 6, 'y': 6}, {'x': 7, 'y': 6}, {'x': 7, 'y': 5}, {'x': 5, 'y': 6}, {'x': 6, 'y': 7}, {'x': 5, 'y': 7}, {'x': 7, 'y': 7}, {'x': 8, 'y': 5}, {'x': 9, 'y': 4}, {'x': 7, 'y': 1}, {'x': 7, 'y': 0}, {'x': 4, 'y': 4}, {'x': 5, 'y': 5}, {'x': 4, 'y': 5}, {'x': 3, 'y': 4}, {'x': 3, 'y': 5}, {'x': 3, 'y': 6}, {'x': 4, 'y': 6}, {'x': 4, 'y': 7}, {'x': 4, 'y': 8}, {'x': 4, 'y': 9}, {'x': 5, 'y': 9}, {'x': 6, 'y': 9}, {'x': 6, 'y': 10}, {'x': 6, 'y': 11}, {'x': 7, 'y': 11}, {'x': 6, 'y': 12}, {'x': 6, 'y': 13}, {'x': 6, 'y': 14}, {'x': 7, 'y': 14}, {'x': 7, 'y': 15}, {'x': 6, 'y': 15}, {'x': 7, 'y': 13}, {'x': 8, 'y': 13}, {'x': 9, 'y': 13}, {'x': 7, 'y': 12}, {'x': 8, 'y': 11}, {'x': 9, 'y': 11}, {'x': 9, 'y': 10}, {'x': 9, 'y': 12}, {'x': 8, 'y': 10}, {'x': 7, 'y': 10}, {'x': 5, 'y': 11}, {'x': 5, 'y': 12}, {'x': 4, 'y': 11}, {'x': 4, 'y': 12}, {'x': 7, 'y': 9}, {'x': 6, 'y': 8}, {'x': 7, 'y': 8}, {'x': 5, 'y': 10}, {'x': 3, 'y': 12}, {'x': 3, 'y': 11}, {'x': 2, 'y': 11}], 'doors': [[{'x': 1, 'y': 1}, {'x': 1, 'y': 0}], [{'x': 1, 'y': 1}, {'x': 1, 'y': 1}], [{'x': 1, 'y': 1}, {'x': 1, 'y': 1}], [{'x': 0, 'y': 1}, {'x': 1, 'y': 1}], [{'x': 0, 'y': 2}, {'x': 0, 'y': 1}], [{'x': 1, 'y': 2}, {'x': 0, 'y': 2}], [{'x': 1, 'y': 2}, {'x': 1, 'y': 2}], [{'x': 1, 'y': 2}, {'x': 1, 'y': 2}], [{'x': 1, 'y': 2}, {'x': 1, 'y': 2}], [{'x': 1, 'y': 2}, {'x': 1, 'y': 2}], [{'x': 2, 'y': 0}, {'x': 1, 'y': 2}], [{'x': 3, 'y': 0}, {'x': 2, 'y': 0}], [{'x': 3, 'y': 1}, {'x': 3, 'y': 0}], [{'x': 3, 'y': 2}, {'x': 3, 'y': 1}], [{'x': 2, 'y': 2}, {'x': 3, 'y': 2}], [{'x': 2, 'y': 3}, {'x': 2, 'y': 2}], [{'x': 3, 'y': 3}, {'x': 2, 'y': 3}], [{'x': 3, 'y': 3}, {'x': 3, 'y': 3}], [{'x': 4, 'y': 2}, {'x': 3, 'y': 3}], [{'x': 4, 'y': 2}, {'x': 4, 'y': 2}], [{'x': 4, 'y': 2}, {'x': 4, 'y': 2}], [{'x': 4, 'y': 2}, {'x': 4, 'y': 2}], [{'x': 4, 'y': 2}, {'x': 4, 'y': 2}], [{'x': 4, 'y': 2}, {'x': 4, 'y': 2}], [{'x': 4, 'y': 2}, {'x': 4, 'y': 2}], [{'x': 2, 'y': 1}, {'x': 4, 'y': 2}], [{'x': 2, 'y': 1}, {'x': 2, 'y': 1}], [{'x': 2, 'y': 1}, {'x': 2, 'y': 1}], [{'x': 2, 'y': 1}, {'x': 2, 'y': 1}], [{'x': 2, 'y': 1}, {'x': 2, 'y': 1}], [{'x': 2, 'y': 1}, {'x': 2, 'y': 1}], [{'x': 2, 'y': 1}, {'x': 2, 'y': 1}], [{'x': 2, 'y': 1}, {'x': 2, 'y': 1}], [{'x': 4, 'y': 1}, {'x': 2, 'y': 1}], [{'x': 5, 'y': 1}, {'x': 4, 'y': 1}], [{'x': 5, 'y': 0}, {'x': 5, 'y': 1}], [{'x': 5, 'y': 0}, {'x': 5, 'y': 0}], [{'x': 5, 'y': 0}, {'x': 5, 'y': 0}], [{'x': 5, 'y': 0}, {'x': 5, 'y': 0}], [{'x': 6, 'y': 1}, {'x': 5, 'y': 0}], [{'x': 6, 'y': 1}, {'x': 6, 'y': 1}], [{'x': 6, 'y': 1}, {'x': 6, 'y': 1}], [{'x': 6, 'y': 0}, {'x': 6, 'y': 1}], [{'x': 6, 'y': 0}, {'x': 6, 'y': 0}], [{'x': 6, 'y': 0}, {'x': 6, 'y': 0}], [{'x': 6, 'y': 0}, {'x': 6, 'y': 0}], [{'x': 4, 'y': 0}, {'x': 6, 'y': 0}], [{'x': 4, 'y': 0}, {'x': 4, 'y': 0}], [{'x': 4, 'y': 0}, {'x': 4, 'y': 0}], [{'x': 4, 'y': 3}, {'x': 4, 'y': 0}], [{'x': 4, 'y': 3}, {'x': 4, 'y': 3}], [{'x': 4, 'y': 3}, {'x': 4, 'y': 3}], [{'x': 4, 'y': 3}, {'x': 4, 'y': 3}], [{'x': 5, 'y': 2}, {'x': 4, 'y': 3}], [{'x': 5, 'y': 2}, {'x': 5, 'y': 2}], [{'x': 5, 'y': 2}, {'x': 5, 'y': 2}], [{'x': 5, 'y': 2}, {'x': 5, 'y': 2}], [{'x': 5, 'y': 2}, {'x': 5, 'y': 2}], [{'x': 5, 'y': 2}, {'x': 5, 'y': 2}], [{'x': 5, 'y': 2}, {'x': 5, 'y': 2}], [{'x': 5, 'y': 2}, {'x': 5, 'y': 2}], [{'x': 5, 'y': 2}, {'x': 5, 'y': 2}], [{'x': 5, 'y': 2}, {'x': 5, 'y': 2}], [{'x': 5, 'y': 2}, {'x': 5, 'y': 2}], [{'x': 5, 'y': 3}, {'x': 5, 'y': 2}], [{'x': 5, 'y': 3}, {'x': 5, 'y': 3}], [{'x': 5, 'y': 3}, {'x': 5, 'y': 3}], [{'x': 5, 'y': 3}, {'x': 5, 'y': 3}], [{'x': 5, 'y': 3}, {'x': 5, 'y': 3}], [{'x': 5, 'y': 3}, {'x': 5, 'y': 3}], [{'x': 2, 'y': 4}, {'x': 5, 'y': 3}], [{'x': 2, 'y': 5}, {'x': 2, 'y': 4}], [{'x': 2, 'y': 6}, {'x': 2, 'y': 5}], [{'x': 2, 'y': 7}, {'x': 2, 'y': 6}], [{'x': 1, 'y': 7}, {'x': 2, 'y': 7}], [{'x': 1, 'y': 6}, {'x': 1, 'y': 7}], [{'x': 0, 'y': 6}, {'x': 1, 'y': 6}], [{'x': 0, 'y': 5}, {'x': 0, 'y': 6}], [{'x': 0, 'y': 4}, {'x': 0, 'y': 5}], [{'x': 1, 'y': 4}, {'x': 0, 'y': 4}], [{'x': 1, 'y': 5}, {'x': 1, 'y': 4}], [{'x': 1, 'y': 5}, {'x': 1, 'y': 5}], [{'x': 1, 'y': 5}, {'x': 1, 'y': 5}], [{'x': 1, 'y': 5}, {'x': 1, 'y': 5}], [{'x': 1, 'y': 3}, {'x': 1, 'y': 5}], [{'x': 1, 'y': 3}, {'x': 1, 'y': 3}], [{'x': 1, 'y': 3}, {'x': 1, 'y': 3}], [{'x': 1, 'y': 3}, {'x': 1, 'y': 3}], [{'x': 1, 'y': 3}, {'x': 1, 'y': 3}], [{'x': 1, 'y': 3}, {'x': 1, 'y': 3}], [{'x': 1, 'y': 3}, {'x': 1, 'y': 3}], [{'x': 1, 'y': 3}, {'x': 1, 'y': 3}], [{'x': 1, 'y': 3}, {'x': 1, 'y': 3}], [{'x': 1, 'y': 3}, {'x': 1, 'y': 3}], [{'x': 1, 'y': 3}, {'x': 1, 'y': 3}], [{'x': 6, 'y': 3}, {'x': 1, 'y': 3}], [{'x': 6, 'y': 2}, {'x': 6, 'y': 3}], [{'x': 6, 'y': 2}, {'x': 6, 'y': 2}], [{'x': 6, 'y': 2}, {'x': 6, 'y': 2}], [{'x': 6, 'y': 2}, {'x': 6, 'y': 2}], [{'x': 6, 'y': 2}, {'x': 6, 'y': 2}], [{'x': 6, 'y': 2}, {'x': 6, 'y': 2}], [{'x': 6, 'y': 2}, {'x': 6, 'y': 2}], [{'x': 6, 'y': 2}, {'x': 6, 'y': 2}], [{'x': 6, 'y': 2}, {'x': 6, 'y': 2}], [{'x': 6, 'y': 2}, {'x': 6, 'y': 2}], [{'x': 6, 'y': 2}, {'x': 6, 'y': 2}], [{'x': 6, 'y': 2}, {'x': 6, 'y': 2}], [{'x': 6, 'y': 2}, {'x': 6, 'y': 2}], [{'x': 6, 'y': 2}, {'x': 6, 'y': 2}], [{'x': 6, 'y': 2}, {'x': 6, 'y': 2}], [{'x': 6, 'y': 2}, {'x': 6, 'y': 2}], [{'x': 6, 'y': 2}, {'x': 6, 'y': 2}], [{'x': 6, 'y': 2}, {'x': 6, 'y': 2}], [{'x': 6, 'y': 2}, {'x': 6, 'y': 2}], [{'x': 6, 'y': 2}, {'x': 6, 'y': 2}], [{'x': 6, 'y': 2}, {'x': 6, 'y': 2}], [{'x': 7, 'y': 2}, {'x': 6, 'y': 2}], [{'x': 7, 'y': 3}, {'x': 7, 'y': 2}], [{'x': 8, 'y': 3}, {'x': 7, 'y': 3}], [{'x': 8, 'y': 4}, {'x': 8, 'y': 3}], [{'x': 8, 'y': 4}, {'x': 8, 'y': 4}], [{'x': 8, 'y': 2}, {'x': 8, 'y': 4}], [{'x': 9, 'y': 2}, {'x': 8, 'y': 2}], [{'x': 9, 'y': 3}, {'x': 9, 'y': 2}], [{'x': 9, 'y': 3}, {'x': 9, 'y': 3}], [{'x': 9, 'y': 3}, {'x': 9, 'y': 3}], [{'x': 9, 'y': 3}, {'x': 9, 'y': 3}], [{'x': 9, 'y': 3}, {'x': 9, 'y': 3}], [{'x': 5, 'y': 4}, {'x': 9, 'y': 3}], [{'x': 6, 'y': 4}, {'x': 5, 'y': 4}], [{'x': 6, 'y': 4}, {'x': 6, 'y': 4}], [{'x': 6, 'y': 4}, {'x': 6, 'y': 4}], [{'x': 6, 'y': 5}, {'x': 6, 'y': 4}], [{'x': 6, 'y': 6}, {'x': 6, 'y': 5}], [{'x': 7, 'y': 6}, {'x': 6, 'y': 6}], [{'x': 7, 'y': 5}, {'x': 7, 'y': 6}], [{'x': 7, 'y': 5}, {'x': 7, 'y': 5}], [{'x': 7, 'y': 5}, {'x': 7, 'y': 5}], [{'x': 5, 'y': 6}, {'x': 7, 'y': 5}], [{'x': 5, 'y': 6}, {'x': 5, 'y': 6}], [{'x': 6, 'y': 7}, {'x': 5, 'y': 6}], [{'x': 5, 'y': 7}, {'x': 6, 'y': 7}], [{'x': 5, 'y': 7}, {'x': 5, 'y': 7}], [{'x': 5, 'y': 7}, {'x': 5, 'y': 7}], [{'x': 5, 'y': 7}, {'x': 5, 'y': 7}], [{'x': 7, 'y': 7}, {'x': 5, 'y': 7}], [{'x': 7, 'y': 7}, {'x': 7, 'y': 7}], [{'x': 7, 'y': 7}, {'x': 7, 'y': 7}], [{'x': 7, 'y': 7}, {'x': 7, 'y': 7}], [{'x': 7, 'y': 7}, {'x': 7, 'y': 7}], [{'x': 8, 'y': 5}, {'x': 7, 'y': 7}], [{'x': 8, 'y': 5}, {'x': 8, 'y': 5}], [{'x': 9, 'y': 4}, {'x': 8, 'y': 5}], [{'x': 9, 'y': 4}, {'x': 9, 'y': 4}], [{'x': 9, 'y': 4}, {'x': 9, 'y': 4}], [{'x': 9, 'y': 4}, {'x': 9, 'y': 4}], [{'x': 9, 'y': 4}, {'x': 9, 'y': 4}], [{'x': 9, 'y': 4}, {'x': 9, 'y': 4}], [{'x': 9, 'y': 4}, {'x': 9, 'y': 4}], [{'x': 9, 'y': 4}, {'x': 9, 'y': 4}], [{'x': 9, 'y': 4}, {'x': 9, 'y': 4}], [{'x': 9, 'y': 4}, {'x': 9, 'y': 4}], [{'x': 9, 'y': 4}, {'x': 9, 'y': 4}], [{'x': 9, 'y': 4}, {'x': 9, 'y': 4}], [{'x': 9, 'y': 4}, {'x': 9, 'y': 4}], [{'x': 9, 'y': 4}, {'x': 9, 'y': 4}], [{'x': 9, 'y': 4}, {'x': 9, 'y': 4}], [{'x': 9, 'y': 4}, {'x': 9, 'y': 4}], [{'x': 9, 'y': 4}, {'x': 9, 'y': 4}], [{'x': 9, 'y': 4}, {'x': 9, 'y': 4}], [{'x': 9, 'y': 4}, {'x': 9, 'y': 4}], [{'x': 9, 'y': 4}, {'x': 9, 'y': 4}], [{'x': 9, 'y': 4}, {'x': 9, 'y': 4}], [{'x': 9, 'y': 4}, {'x': 9, 'y': 4}], [{'x': 9, 'y': 4}, {'x': 9, 'y': 4}], [{'x': 9, 'y': 4}, {'x': 9, 'y': 4}], [{'x': 9, 'y': 4}, {'x': 9, 'y': 4}], [{'x': 9, 'y': 4}, {'x': 9, 'y': 4}], [{'x': 9, 'y': 4}, {'x': 9, 'y': 4}], [{'x': 9, 'y': 4}, {'x': 9, 'y': 4}], [{'x': 9, 'y': 4}, {'x': 9, 'y': 4}], [{'x': 7, 'y': 1}, {'x': 9, 'y': 4}], [{'x': 7, 'y': 0}, {'x': 7, 'y': 1}], [{'x': 7, 'y': 0}, {'x': 7, 'y': 0}], [{'x': 7, 'y': 0}, {'x': 7, 'y': 0}], [{'x': 7, 'y': 0}, {'x': 7, 'y': 0}], [{'x': 7, 'y': 0}, {'x': 7, 'y': 0}], [{'x': 7, 'y': 0}, {'x': 7, 'y': 0}], [{'x': 7, 'y': 0}, {'x': 7, 'y': 0}], [{'x': 7, 'y': 0}, {'x': 7, 'y': 0}], [{'x': 7, 'y': 0}, {'x': 7, 'y': 0}], [{'x': 7, 'y': 0}, {'x': 7, 'y': 0}], [{'x': 7, 'y': 0}, {'x': 7, 'y': 0}], [{'x': 7, 'y': 0}, {'x': 7, 'y': 0}], [{'x': 7, 'y': 0}, {'x': 7, 'y': 0}], [{'x': 7, 'y': 0}, {'x': 7, 'y': 0}], [{'x': 7, 'y': 0}, {'x': 7, 'y': 0}], [{'x': 7, 'y': 0}, {'x': 7, 'y': 0}], [{'x': 7, 'y': 0}, {'x': 7, 'y': 0}], [{'x': 7, 'y': 0}, {'x': 7, 'y': 0}], [{'x': 7, 'y': 0}, {'x': 7, 'y': 0}], [{'x': 7, 'y': 0}, {'x': 7, 'y': 0}], [{'x': 7, 'y': 0}, {'x': 7, 'y': 0}], [{'x': 7, 'y': 0}, {'x': 7, 'y': 0}], [{'x': 7, 'y': 0}, {'x': 7, 'y': 0}], [{'x': 7, 'y': 0}, {'x': 7, 'y': 0}], [{'x': 7, 'y': 0}, {'x': 7, 'y': 0}], [{'x': 7, 'y': 0}, {'x': 7, 'y': 0}], [{'x': 7, 'y': 0}, {'x': 7, 'y': 0}], [{'x': 7, 'y': 0}, {'x': 7, 'y': 0}], [{'x': 7, 'y': 0}, {'x': 7, 'y': 0}], [{'x': 7, 'y': 0}, {'x': 7, 'y': 0}], [{'x': 7, 'y': 0}, {'x': 7, 'y': 0}], [{'x': 4, 'y': 4}, {'x': 7, 'y': 0}], [{'x': 4, 'y': 4}, {'x': 4, 'y': 4}], [{'x': 4, 'y': 4}, {'x': 4, 'y': 4}], [{'x': 4, 'y': 4}, {'x': 4, 'y': 4}], [{'x': 4, 'y': 4}, {'x': 4, 'y': 4}], [{'x': 4, 'y': 4}, {'x': 4, 'y': 4}], [{'x': 5, 'y': 5}, {'x': 4, 'y': 4}], [{'x': 4, 'y': 5}, {'x': 5, 'y': 5}], [{'x': 4, 'y': 5}, {'x': 4, 'y': 5}], [{'x': 3, 'y': 4}, {'x': 4, 'y': 5}], [{'x': 3, 'y': 5}, {'x': 3, 'y': 4}], [{'x': 3, 'y': 5}, {'x': 3, 'y': 5}], [{'x': 3, 'y': 5}, {'x': 3, 'y': 5}], [{'x': 3, 'y': 6}, {'x': 3, 'y': 5}], [{'x': 3, 'y': 6}, {'x': 3, 'y': 6}], [{'x': 3, 'y': 6}, {'x': 3, 'y': 6}], [{'x': 3, 'y': 6}, {'x': 3, 'y': 6}], [{'x': 3, 'y': 6}, {'x': 3, 'y': 6}], [{'x': 3, 'y': 6}, {'x': 3, 'y': 6}], [{'x': 3, 'y': 6}, {'x': 3, 'y': 6}], [{'x': 3, 'y': 6}, {'x': 3, 'y': 6}], [{'x': 3, 'y': 6}, {'x': 3, 'y': 6}], [{'x': 3, 'y': 6}, {'x': 3, 'y': 6}], [{'x': 3, 'y': 6}, {'x': 3, 'y': 6}], [{'x': 3, 'y': 6}, {'x': 3, 'y': 6}], [{'x': 3, 'y': 6}, {'x': 3, 'y': 6}], [{'x': 3, 'y': 6}, {'x': 3, 'y': 6}], [{'x': 3, 'y': 6}, {'x': 3, 'y': 6}], [{'x': 3, 'y': 6}, {'x': 3, 'y': 6}], [{'x': 3, 'y': 6}, {'x': 3, 'y': 6}], [{'x': 3, 'y': 6}, {'x': 3, 'y': 6}], [{'x': 3, 'y': 6}, {'x': 3, 'y': 6}], [{'x': 3, 'y': 6}, {'x': 3, 'y': 6}], [{'x': 3, 'y': 6}, {'x': 3, 'y': 6}], [{'x': 3, 'y': 6}, {'x': 3, 'y': 6}], [{'x': 3, 'y': 6}, {'x': 3, 'y': 6}], [{'x': 3, 'y': 6}, {'x': 3, 'y': 6}], [{'x': 3, 'y': 6}, {'x': 3, 'y': 6}], [{'x': 3, 'y': 6}, {'x': 3, 'y': 6}], [{'x': 3, 'y': 6}, {'x': 3, 'y': 6}], [{'x': 3, 'y': 6}, {'x': 3, 'y': 6}], [{'x': 3, 'y': 6}, {'x': 3, 'y': 6}], [{'x': 3, 'y': 6}, {'x': 3, 'y': 6}], [{'x': 3, 'y': 6}, {'x': 3, 'y': 6}], [{'x': 3, 'y': 6}, {'x': 3, 'y': 6}], [{'x': 3, 'y': 6}, {'x': 3, 'y': 6}], [{'x': 4, 'y': 6}, {'x': 3, 'y': 6}], [{'x': 4, 'y': 7}, {'x': 4, 'y': 6}], [{'x': 4, 'y': 8}, {'x': 4, 'y': 7}], [{'x': 4, 'y': 8}, {'x': 4, 'y': 8}], [{'x': 4, 'y': 8}, {'x': 4, 'y': 8}], [{'x': 4, 'y': 9}, {'x': 4, 'y': 8}], [{'x': 5, 'y': 9}, {'x': 4, 'y': 9}], [{'x': 6, 'y': 9}, {'x': 5, 'y': 9}], [{'x': 6, 'y': 10}, {'x': 6, 'y': 9}], [{'x': 6, 'y': 11}, {'x': 6, 'y': 10}], [{'x': 7, 'y': 11}, {'x': 6, 'y': 11}], [{'x': 7, 'y': 11}, {'x': 7, 'y': 11}], [{'x': 6, 'y': 12}, {'x': 7, 'y': 11}], [{'x': 6, 'y': 13}, {'x': 6, 'y': 12}], [{'x': 6, 'y': 14}, {'x': 6, 'y': 13}], [{'x': 7, 'y': 14}, {'x': 6, 'y': 14}], [{'x': 7, 'y': 15}, {'x': 7, 'y': 14}], [{'x': 6, 'y': 15}, {'x': 7, 'y': 15}], [{'x': 6, 'y': 15}, {'x': 6, 'y': 15}], [{'x': 6, 'y': 15}, {'x': 6, 'y': 15}], [{'x': 7, 'y': 13}, {'x': 6, 'y': 15}], [{'x': 8, 'y': 13}, {'x': 7, 'y': 13}], [{'x': 9, 'y': 13}, {'x': 8, 'y': 13}], [{'x': 9, 'y': 13}, {'x': 9, 'y': 13}], [{'x': 9, 'y': 13}, {'x': 9, 'y': 13}], [{'x': 9, 'y': 13}, {'x': 9, 'y': 13}], [{'x': 9, 'y': 13}, {'x': 9, 'y': 13}], [{'x': 9, 'y': 13}, {'x': 9, 'y': 13}], [{'x': 9, 'y': 13}, {'x': 9, 'y': 13}], [{'x': 9, 'y': 13}, {'x': 9, 'y': 13}], [{'x': 9, 'y': 13}, {'x': 9, 'y': 13}], [{'x': 7, 'y': 12}, {'x': 9, 'y': 13}], [{'x': 7, 'y': 12}, {'x': 7, 'y': 12}], [{'x': 8, 'y': 11}, {'x': 7, 'y': 12}], [{'x': 9, 'y': 11}, {'x': 8, 'y': 11}], [{'x': 9, 'y': 10}, {'x': 9, 'y': 11}], [{'x': 9, 'y': 10}, {'x': 9, 'y': 10}], [{'x': 9, 'y': 10}, {'x': 9, 'y': 10}], [{'x': 9, 'y': 10}, {'x': 9, 'y': 10}], [{'x': 9, 'y': 10}, {'x': 9, 'y': 10}], [{'x': 9, 'y': 10}, {'x': 9, 'y': 10}], [{'x': 9, 'y': 12}, {'x': 9, 'y': 10}], [{'x': 9, 'y': 12}, {'x': 9, 'y': 12}], [{'x': 9, 'y': 12}, {'x': 9, 'y': 12}], [{'x': 8, 'y': 10}, {'x': 9, 'y': 12}], [{'x': 7, 'y': 10}, {'x': 8, 'y': 10}], [{'x': 7, 'y': 10}, {'x': 7, 'y': 10}], [{'x': 7, 'y': 10}, {'x': 7, 'y': 10}], [{'x': 7, 'y': 10}, {'x': 7, 'y': 10}], [{'x': 7, 'y': 10}, {'x': 7, 'y': 10}], [{'x': 5, 'y': 11}, {'x': 7, 'y': 10}], [{'x': 5, 'y': 12}, {'x': 5, 'y': 11}], [{'x': 5, 'y': 12}, {'x': 5, 'y': 12}], [{'x': 5, 'y': 12}, {'x': 5, 'y': 12}], [{'x': 5, 'y': 12}, {'x': 5, 'y': 12}], [{'x': 5, 'y': 12}, {'x': 5, 'y': 12}], [{'x': 5, 'y': 12}, {'x': 5, 'y': 12}], [{'x': 4, 'y': 11}, {'x': 5, 'y': 12}], [{'x': 4, 'y': 12}, {'x': 4, 'y': 11}], [{'x': 4, 'y': 12}, {'x': 4, 'y': 12}], [{'x': 4, 'y': 12}, {'x': 4, 'y': 12}], [{'x': 4, 'y': 12}, {'x': 4, 'y': 12}], [{'x': 4, 'y': 12}, {'x': 4, 'y': 12}], [{'x': 4, 'y': 12}, {'x': 4, 'y': 12}], [{'x': 4, 'y': 12}, {'x': 4, 'y': 12}], [{'x': 4, 'y': 12}, {'x': 4, 'y': 12}], [{'x': 7, 'y': 9}, {'x': 4, 'y': 12}], [{'x': 7, 'y': 9}, {'x': 7, 'y': 9}], [{'x': 7, 'y': 9}, {'x': 7, 'y': 9}], [{'x': 7, 'y': 9}, {'x': 7, 'y': 9}], [{'x': 6, 'y': 8}, {'x': 7, 'y': 9}], [{'x': 6, 'y': 8}, {'x': 6, 'y': 8}], [{'x': 6, 'y': 8}, {'x': 6, 'y': 8}], [{'x': 6, 'y': 8}, {'x': 6, 'y': 8}], [{'x': 6, 'y': 8}, {'x': 6, 'y': 8}], [{'x': 7, 'y': 8}, {'x': 6, 'y': 8}], [{'x': 7, 'y': 8}, {'x': 7, 'y': 8}], [{'x': 7, 'y': 8}, {'x': 7, 'y': 8}], [{'x': 7, 'y': 8}, {'x': 7, 'y': 8}], [{'x': 5, 'y': 10}, {'x': 7, 'y': 8}], [{'x': 5, 'y': 10}, {'x': 5, 'y': 10}], [{'x': 5, 'y': 10}, {'x': 5, 'y': 10}], [{'x': 5, 'y': 10}, {'x': 5, 'y': 10}], [{'x': 5, 'y': 10}, {'x': 5, 'y': 10}], [{'x': 5, 'y': 10}, {'x': 5, 'y': 10}], [{'x': 3, 'y': 12}, {'x': 5, 'y': 10}], [{'x': 3, 'y': 12}, {'x': 3, 'y': 12}], [{'x': 3, 'y': 12}, {'x': 3, 'y': 12}], [{'x': 3, 'y': 11}, {'x': 3, 'y': 12}], [{'x': 2, 'y': 11}, {'x': 3, 'y': 11}]]}\n"
      ],
      "execution_count": 0,
      "outputs": []
    },
    {
      "cell_type": "markdown",
      "metadata": {
        "id": "1zOgFm4ekJb5",
        "colab_type": "text"
      },
      "source": [
        "# plan:\n",
        "\n",
        "load the following 3 sets of code into the shell\n",
        "\n",
        "first test on the first room"
      ]
    },
    {
      "cell_type": "code",
      "metadata": {
        "id": "V3nIAXpEjC9i",
        "colab_type": "code",
        "colab": {}
      },
      "source": [
        "room_object_input_list = [[0, 'Dungeon Server Wearhouse', 'This where the monsters keep their servers.', 1, 0], [1, 'library', 'This library is very bright and quiet.', 1, 1], [2, 'Banquet Room', 'This looks like a room for large events.', 0, 1], [3, 'Medium Hallway', 'This hallway is... Be very careful.', 0, 2], [4, 'Office', 'This room looks like a basement office at the state department.', 1, 2], [5, 'Office', 'This room looks like a basement office at the state department.', 2, 0], [6, 'Swimming Pool', 'This looks like a great place to swim...is that a giant squid?', 3, 0], [7, 'Dungeon Server Wearhouse', 'This where the monsters keep their servers.', 3, 1], [8, 'Dungeon Cell', 'This room looks like a prison cell.', 3, 2], [9, 'storage_room', 'This storage room is full of things.', 2, 2], [10, 'Walk In Closet', \"This room is a huge walk-in-closet. There's clothing everywhere!\", 2, 3], [11, 'Office', 'This room looks like a basement office at the state department.', 3, 3], [12, 'Swimming Pool', 'This looks like a great place to swim...is that a giant squid?', 4, 2], [13, 'Dungeon Server Wearhouse', 'This where the monsters keep their servers.', 2, 1], [14, 'Dungeon Server Wearhouse', 'This where the monsters keep their servers.', 4, 1], [15, 'Office', 'This room looks like a basement office at the state department.', 5, 1], [16, 'Kitchen', 'This room is full of cooking supplies.', 5, 0], [17, 'Medium Hallway', 'This hallway is... Be very careful.', 6, 1], [18, 'Office', 'This room looks like a basement office at the state department.', 6, 0], [19, 'Mine', 'This area looks to be mine set up to find coal, iron, diamonds...and redstone...Punch a tree and get your torches ready!', 4, 0], [20, 'Armory', 'This stone room is full of arms. To Arms!', 4, 3], [21, 'Nest', 'This looks web filled nest for some kind of creature.', 5, 2], [22, 'Medium Hallway', 'This hallway is... Be very careful.', 5, 3], [23, 'stone room', 'This stone room is dark. Be careful.', 2, 4], [24, 'Mine', 'This area looks to be mine set up to find coal, iron, diamonds...and redstone...Punch a tree and get your torches ready!', 2, 5], [25, 'Walk In Closet', \"This room is a huge walk-in-closet. There's clothing everywhere!\", 2, 6], [26, 'library', 'This library is very bright and quiet.', 2, 7], [27, 'Medium Hallway', 'This hallway is... Be very careful.', 1, 7], [28, 'Mine', 'This area looks to be mine set up to find coal, iron, diamonds...and redstone...Punch a tree and get your torches ready!', 1, 6], [29, 'library', 'This library is very bright and quiet.', 0, 6], [30, 'Kitchen', 'This room is full of cooking supplies.', 0, 5], [31, 'Kitchen', 'This room is full of cooking supplies.', 0, 4], [32, 'Medium Hallway', 'This hallway is... Be very careful.', 1, 4], [33, 'stone room', 'This stone room is dark. Be careful.', 1, 5], [34, 'Mine', 'This area looks to be mine set up to find coal, iron, diamonds...and redstone...Punch a tree and get your torches ready!', 1, 3], [35, 'stone room', 'This stone room is dark. Be careful.', 6, 3], [36, 'Kitchen', 'This room is full of cooking supplies.', 6, 2], [37, 'Dungeon Cell', 'This room looks like a prison cell.', 7, 2], [38, 'Dungeon Server Wearhouse', 'This where the monsters keep their servers.', 7, 3], [39, 'Dungeon Cell', 'This room looks like a prison cell.', 8, 3], [40, 'Banquet Room', 'This looks like a room for large events.', 8, 4], [41, 'Armory', 'This stone room is full of arms. To Arms!', 8, 2], [42, 'Walk In Closet', \"This room is a huge walk-in-closet. There's clothing everywhere!\", 9, 2], [43, 'Armory', 'This stone room is full of arms. To Arms!', 9, 3], [44, 'Medium Hallway', 'This hallway is... Be very careful.', 5, 4], [45, 'Long Hallway', 'This hallway is very long. Be careful.', 6, 4], [46, 'Nest', 'This looks web filled nest for some kind of creature.', 6, 5], [47, 'library', 'This library is very bright and quiet.', 6, 6], [48, 'Walk In Closet', \"This room is a huge walk-in-closet. There's clothing everywhere!\", 7, 6], [49, 'Mine', 'This area looks to be mine set up to find coal, iron, diamonds...and redstone...Punch a tree and get your torches ready!', 7, 5], [50, 'Office', 'This room looks like a basement office at the state department.', 5, 6], [51, 'Dungeon Cell', 'This room looks like a prison cell.', 6, 7], [52, 'Mine', 'This area looks to be mine set up to find coal, iron, diamonds...and redstone...Punch a tree and get your torches ready!', 5, 7], [53, 'Kitchen', 'This room is full of cooking supplies.', 7, 7], [54, 'Swimming Pool', 'This looks like a great place to swim...is that a giant squid?', 8, 5], [55, 'Mine', 'This area looks to be mine set up to find coal, iron, diamonds...and redstone...Punch a tree and get your torches ready!', 9, 4], [56, 'Dungeon Cell', 'This room looks like a prison cell.', 7, 1], [57, 'Banquet Room', 'This looks like a room for large events.', 7, 0], [58, 'Swimming Pool', 'This looks like a great place to swim...is that a giant squid?', 4, 4], [59, 'Banquet Room', 'This looks like a room for large events.', 5, 5], [60, 'wooden_room', 'The wooden room is very...woodish.', 4, 5], [61, 'Medium Hallway', 'This hallway is... Be very careful.', 3, 4], [62, 'Short Hallway', 'This hallway is not very long. Be very careful.', 3, 5], [63, 'Kitchen', 'This room is full of cooking supplies.', 3, 6], [64, 'Long Hallway', 'This hallway is very long. Be careful.', 4, 6], [65, 'Mine', 'This area looks to be mine set up to find coal, iron, diamonds...and redstone...Punch a tree and get your torches ready!', 4, 7], [66, 'Medium Hallway', 'This hallway is... Be very careful.', 4, 8], [67, 'Medium Hallway', 'This hallway is... Be very careful.', 4, 9], [68, 'Dungeon Cell', 'This room looks like a prison cell.', 5, 9], [69, 'Armory', 'This stone room is full of arms. To Arms!', 6, 9], [70, 'Mine', 'This area looks to be mine set up to find coal, iron, diamonds...and redstone...Punch a tree and get your torches ready!', 6, 10], [71, 'Armory', 'This stone room is full of arms. To Arms!', 6, 11], [72, 'storage_room', 'This storage room is full of things.', 7, 11], [73, 'Dungeon Cell', 'This room looks like a prison cell.', 6, 12], [74, 'wooden_room', 'The wooden room is very...woodish.', 6, 13], [75, 'Swimming Pool', 'This looks like a great place to swim...is that a giant squid?', 6, 14], [76, 'Long Hallway', 'This hallway is very long. Be careful.', 7, 14], [77, 'library', 'This library is very bright and quiet.', 7, 15], [78, 'Dungeon Server Wearhouse', 'This where the monsters keep their servers.', 6, 15], [79, 'Nest', 'This looks web filled nest for some kind of creature.', 7, 13], [80, 'Nest', 'This looks web filled nest for some kind of creature.', 8, 13], [81, 'wooden_room', 'The wooden room is very...woodish.', 9, 13], [82, 'Mine', 'This area looks to be mine set up to find coal, iron, diamonds...and redstone...Punch a tree and get your torches ready!', 7, 12], [83, 'Dungeon Cell', 'This room looks like a prison cell.', 8, 11], [84, 'stone room', 'This stone room is dark. Be careful.', 9, 11], [85, 'Armory', 'This stone room is full of arms. To Arms!', 9, 10], [86, 'Office', 'This room looks like a basement office at the state department.', 9, 12], [87, 'Nest', 'This looks web filled nest for some kind of creature.', 8, 10], [88, 'storage_room', 'This storage room is full of things.', 7, 10], [89, 'Mine', 'This area looks to be mine set up to find coal, iron, diamonds...and redstone...Punch a tree and get your torches ready!', 5, 11], [90, 'Dungeon Server Wearhouse', 'This where the monsters keep their servers.', 5, 12], [91, 'Dungeon Server Wearhouse', 'This where the monsters keep their servers.', 4, 11], [92, 'Short Hallway', 'This hallway is not very long. Be very careful.', 4, 12], [93, 'library', 'This library is very bright and quiet.', 7, 9], [94, 'Nest', 'This looks web filled nest for some kind of creature.', 6, 8], [95, 'Short Hallway', 'This hallway is not very long. Be very careful.', 7, 8], [96, 'Dungeon Cell', 'This room looks like a prison cell.', 5, 10], [97, 'Long Hallway', 'This hallway is very long. Be careful.', 3, 12], [98, 'Swimming Pool', 'This looks like a great place to swim...is that a giant squid?', 3, 11], [99, 'Walk In Closet', \"This room is a huge walk-in-closet. There's clothing everywhere!\", 2, 11]]\n"
      ],
      "execution_count": 0,
      "outputs": []
    },
    {
      "cell_type": "code",
      "metadata": {
        "id": "7Iqtmss5iHts",
        "colab_type": "code",
        "colab": {}
      },
      "source": [
        "room_object_input_list = [[0, 'Dungeon Server Wearhouse', 'This where the monsters keep their servers.', 1, 0], [1, 'library', 'This library is very bright and quiet.', 1, 1], [2, 'Banquet Room', 'This looks like a room for large events.', 0, 1], [3, 'Medium Hallway', 'This hallway is... Be very careful.', 0, 2], [4, 'Office', 'This room looks like a basement office at the state department.', 1, 2], [5, 'Office', 'This room looks like a basement office at the state department.', 2, 0], [6, 'Swimming Pool', 'This looks like a great place to swim...is that a giant squid?', 3, 0], [7, 'Dungeon Server Wearhouse', 'This where the monsters keep their servers.', 3, 1], [8, 'Dungeon Cell', 'This room looks like a prison cell.', 3, 2], [9, 'storage_room', 'This storage room is full of things.', 2, 2], [10, 'Walk In Closet', \"This room is a huge walk-in-closet. There's clothing everywhere!\", 2, 3], [11, 'Office', 'This room looks like a basement office at the state department.', 3, 3], [12, 'Swimming Pool', 'This looks like a great place to swim...is that a giant squid?', 4, 2], [13, 'Dungeon Server Wearhouse', 'This where the monsters keep their servers.', 2, 1], [14, 'Dungeon Server Wearhouse', 'This where the monsters keep their servers.', 4, 1], [15, 'Office', 'This room looks like a basement office at the state department.', 5, 1], [16, 'Kitchen', 'This room is full of cooking supplies.', 5, 0], [17, 'Medium Hallway', 'This hallway is... Be very careful.', 6, 1], [18, 'Office', 'This room looks like a basement office at the state department.', 6, 0], [19, 'Mine', 'This area looks to be mine set up to find coal, iron, diamonds...and redstone...Punch a tree and get your torches ready!', 4, 0], [20, 'Armory', 'This stone room is full of arms. To Arms!', 4, 3], [21, 'Nest', 'This looks web filled nest for some kind of creature.', 5, 2], [22, 'Medium Hallway', 'This hallway is... Be very careful.', 5, 3], [23, 'stone room', 'This stone room is dark. Be careful.', 2, 4], [24, 'Mine', 'This area looks to be mine set up to find coal, iron, diamonds...and redstone...Punch a tree and get your torches ready!', 2, 5], [25, 'Walk In Closet', \"This room is a huge walk-in-closet. There's clothing everywhere!\", 2, 6], [26, 'library', 'This library is very bright and quiet.', 2, 7], [27, 'Medium Hallway', 'This hallway is... Be very careful.', 1, 7], [28, 'Mine', 'This area looks to be mine set up to find coal, iron, diamonds...and redstone...Punch a tree and get your torches ready!', 1, 6], [29, 'library', 'This library is very bright and quiet.', 0, 6], [30, 'Kitchen', 'This room is full of cooking supplies.', 0, 5], [31, 'Kitchen', 'This room is full of cooking supplies.', 0, 4], [32, 'Medium Hallway', 'This hallway is... Be very careful.', 1, 4], [33, 'stone room', 'This stone room is dark. Be careful.', 1, 5], [34, 'Mine', 'This area looks to be mine set up to find coal, iron, diamonds...and redstone...Punch a tree and get your torches ready!', 1, 3], [35, 'stone room', 'This stone room is dark. Be careful.', 6, 3], [36, 'Kitchen', 'This room is full of cooking supplies.', 6, 2], [37, 'Dungeon Cell', 'This room looks like a prison cell.', 7, 2], [38, 'Dungeon Server Wearhouse', 'This where the monsters keep their servers.', 7, 3], [39, 'Dungeon Cell', 'This room looks like a prison cell.', 8, 3], [40, 'Banquet Room', 'This looks like a room for large events.', 8, 4], [41, 'Armory', 'This stone room is full of arms. To Arms!', 8, 2], [42, 'Walk In Closet', \"This room is a huge walk-in-closet. There's clothing everywhere!\", 9, 2], [43, 'Armory', 'This stone room is full of arms. To Arms!', 9, 3], [44, 'Medium Hallway', 'This hallway is... Be very careful.', 5, 4], [45, 'Long Hallway', 'This hallway is very long. Be careful.', 6, 4], [46, 'Nest', 'This looks web filled nest for some kind of creature.', 6, 5], [47, 'library', 'This library is very bright and quiet.', 6, 6], [48, 'Walk In Closet', \"This room is a huge walk-in-closet. There's clothing everywhere!\", 7, 6], [49, 'Mine', 'This area looks to be mine set up to find coal, iron, diamonds...and redstone...Punch a tree and get your torches ready!', 7, 5], [50, 'Office', 'This room looks like a basement office at the state department.', 5, 6], [51, 'Dungeon Cell', 'This room looks like a prison cell.', 6, 7], [52, 'Mine', 'This area looks to be mine set up to find coal, iron, diamonds...and redstone...Punch a tree and get your torches ready!', 5, 7], [53, 'Kitchen', 'This room is full of cooking supplies.', 7, 7], [54, 'Swimming Pool', 'This looks like a great place to swim...is that a giant squid?', 8, 5], [55, 'Mine', 'This area looks to be mine set up to find coal, iron, diamonds...and redstone...Punch a tree and get your torches ready!', 9, 4], [56, 'Dungeon Cell', 'This room looks like a prison cell.', 7, 1], [57, 'Banquet Room', 'This looks like a room for large events.', 7, 0], [58, 'Swimming Pool', 'This looks like a great place to swim...is that a giant squid?', 4, 4], [59, 'Banquet Room', 'This looks like a room for large events.', 5, 5], [60, 'wooden_room', 'The wooden room is very...woodish.', 4, 5], [61, 'Medium Hallway', 'This hallway is... Be very careful.', 3, 4], [62, 'Short Hallway', 'This hallway is not very long. Be very careful.', 3, 5], [63, 'Kitchen', 'This room is full of cooking supplies.', 3, 6], [64, 'Long Hallway', 'This hallway is very long. Be careful.', 4, 6], [65, 'Mine', 'This area looks to be mine set up to find coal, iron, diamonds...and redstone...Punch a tree and get your torches ready!', 4, 7], [66, 'Medium Hallway', 'This hallway is... Be very careful.', 4, 8], [67, 'Medium Hallway', 'This hallway is... Be very careful.', 4, 9], [68, 'Dungeon Cell', 'This room looks like a prison cell.', 5, 9], [69, 'Armory', 'This stone room is full of arms. To Arms!', 6, 9], [70, 'Mine', 'This area looks to be mine set up to find coal, iron, diamonds...and redstone...Punch a tree and get your torches ready!', 6, 10], [71, 'Armory', 'This stone room is full of arms. To Arms!', 6, 11], [72, 'storage_room', 'This storage room is full of things.', 7, 11], [73, 'Dungeon Cell', 'This room looks like a prison cell.', 6, 12], [74, 'wooden_room', 'The wooden room is very...woodish.', 6, 13], [75, 'Swimming Pool', 'This looks like a great place to swim...is that a giant squid?', 6, 14], [76, 'Long Hallway', 'This hallway is very long. Be careful.', 7, 14], [77, 'library', 'This library is very bright and quiet.', 7, 15], [78, 'Dungeon Server Wearhouse', 'This where the monsters keep their servers.', 6, 15], [79, 'Nest', 'This looks web filled nest for some kind of creature.', 7, 13], [80, 'Nest', 'This looks web filled nest for some kind of creature.', 8, 13], [81, 'wooden_room', 'The wooden room is very...woodish.', 9, 13], [82, 'Mine', 'This area looks to be mine set up to find coal, iron, diamonds...and redstone...Punch a tree and get your torches ready!', 7, 12], [83, 'Dungeon Cell', 'This room looks like a prison cell.', 8, 11], [84, 'stone room', 'This stone room is dark. Be careful.', 9, 11], [85, 'Armory', 'This stone room is full of arms. To Arms!', 9, 10], [86, 'Office', 'This room looks like a basement office at the state department.', 9, 12], [87, 'Nest', 'This looks web filled nest for some kind of creature.', 8, 10], [88, 'storage_room', 'This storage room is full of things.', 7, 10], [89, 'Mine', 'This area looks to be mine set up to find coal, iron, diamonds...and redstone...Punch a tree and get your torches ready!', 5, 11], [90, 'Dungeon Server Wearhouse', 'This where the monsters keep their servers.', 5, 12], [91, 'Dungeon Server Wearhouse', 'This where the monsters keep their servers.', 4, 11], [92, 'Short Hallway', 'This hallway is not very long. Be very careful.', 4, 12], [93, 'library', 'This library is very bright and quiet.', 7, 9], [94, 'Nest', 'This looks web filled nest for some kind of creature.', 6, 8], [95, 'Short Hallway', 'This hallway is not very long. Be very careful.', 7, 8], [96, 'Dungeon Cell', 'This room looks like a prison cell.', 5, 10], [97, 'Long Hallway', 'This hallway is very long. Be careful.', 3, 12], [98, 'Swimming Pool', 'This looks like a great place to swim...is that a giant squid?', 3, 11], [99, 'Walk In Closet', \"This room is a huge walk-in-closet. There's clothing everywhere!\", 2, 11]]\n"
      ],
      "execution_count": 0,
      "outputs": []
    },
    {
      "cell_type": "code",
      "metadata": {
        "id": "U3qf5fGDjNVv",
        "colab_type": "code",
        "colab": {}
      },
      "source": [
        "direction_list = [['e', 'w'], ['n', 's'], ['w', 'e'], ['n', 's'], ['e', 'w'], ['e', 'w'], ['e', 'w'], ['n', 's'], ['n', 's'], ['w', 'e'], ['n', 's'], ['e', 'w'], ['e', 'w'], ['w', 'e'], ['e', 'w'], ['e', 'w'], ['s', 'n'], ['e', 'w'], ['e', 'w'], ['w', 'e'], ['n', 's'], ['n', 's'], ['e', 'w'], ['n', 's'], ['n', 's'], ['n', 's'], ['n', 's'], ['w', 'e'], ['s', 'n'], ['w', 'e'], ['s', 'n'], ['s', 'n'], ['e', 'w'], ['n', 's'], ['s', 'n'], ['e', 'w'], ['s', 'n'], ['e', 'w'], ['n', 's'], ['e', 'w'], ['n', 's'], ['s', 'n'], ['e', 'w'], ['n', 's'], ['n', 's'], ['e', 'w'], ['n', 's'], ['n', 's'], ['e', 'w'], ['s', 'n'], ['w', 'e'], ['n', 's'], ['w', 'e'], ['n', 's'], ['e', 'w'], ['e', 'w'], ['e', 'w'], ['s', 'n'], ['w', 'e'], ['n', 's'], ['w', 'e'], ['w', 'e'], ['n', 's'], ['n', 's'], ['n', 's'], ['n', 's'], ['n', 's'], ['n', 's'], ['e', 'w'], ['e', 'w'], ['n', 's'], ['n', 's'], ['e', 'w'], ['n', 's'], ['n', 's'], ['n', 's'], ['e', 'w'], ['n', 's'], ['w', 'e'], ['s', 'n'], ['e', 'w'], ['e', 'w'], ['s', 'n'], ['e', 'w'], ['e', 'w'], ['s', 'n'], ['n', 's'], ['w', 'e'], ['w', 'e'], ['w', 'e'], ['n', 's'], ['w', 'e'], ['n', 's'], ['s', 'n'], ['s', 'n'], ['e', 'w'], ['w', 'e'], ['w', 'e'], ['s', 'n'], ['w', 'e']]\n"
      ],
      "execution_count": 0,
      "outputs": []
    },
    {
      "cell_type": "code",
      "metadata": {
        "id": "zo305aySd1kW",
        "colab_type": "code",
        "colab": {
          "base_uri": "https://localhost:8080/",
          "height": 102
        },
        "outputId": "3e375ec6-f271-4527-d3cd-8ed982275b68"
      },
      "source": [
        "room1_mask = room_object_input_list[0]\n",
        "room1_mask"
      ],
      "execution_count": 20,
      "outputs": [
        {
          "output_type": "execute_result",
          "data": {
            "text/plain": [
              "[0,\n",
              " 'Dungeon Server Wearhouse',\n",
              " 'This where the monsters keep their servers.',\n",
              " 1,\n",
              " 0]"
            ]
          },
          "metadata": {
            "tags": []
          },
          "execution_count": 20
        }
      ]
    },
    {
      "cell_type": "markdown",
      "metadata": {
        "id": "ZUYxqsAlMk_5",
        "colab_type": "text"
      },
      "source": [
        "# test 1: add coordinates to the main original rooms\n"
      ]
    },
    {
      "cell_type": "code",
      "metadata": {
        "id": "16XxEdH7NywG",
        "colab_type": "code",
        "colab": {}
      },
      "source": [
        "Local Django instructions:\n",
        "(in local termina, or in heroku console just like this...\n",
        "for heroku.cli... hmm...)\n",
        "\n",
        "1 \n",
        "python3 manage.py makemigrations\n",
        "\n",
        "2\n",
        "python3 manage.py migrate\n",
        "\n",
        "3 \n",
        "python3 manage.py showmigrations\n",
        "\n",
        "4 \n",
        "python3 manage.py createsuperuser\n",
        "\n",
        "5\n",
        "./manage.py shell\n",
        "(cut and paste the createworld.py code and execute)\n"
      ],
      "execution_count": 0,
      "outputs": []
    },
    {
      "cell_type": "markdown",
      "metadata": {
        "id": "8t9DQoF4mJJw",
        "colab_type": "text"
      },
      "source": [
        "# test 2 testing on 2 rooms\n"
      ]
    },
    {
      "cell_type": "code",
      "metadata": {
        "id": "gbV6pxIJMlGL",
        "colab_type": "code",
        "colab": {}
      },
      "source": [
        "# # create_world.py with coordinates\n",
        "# # this is the file that must be run, which dungeon making must be merged into\n",
        "# from django.contrib.auth.models import User\n",
        "# from adventure.models import Player, Room\n",
        "# # steps:\n",
        "# # step 1: make rooms\n",
        "# # step 2: make players\n",
        "# #\n",
        "# # erases pre-existing rooms\n",
        "# Room.objects.all().delete()\n",
        "# # creates set rooms\n",
        "# # randomly generated/(or selected-from-smaller-set) description\n",
        "# # idea: create clusters of rooms, and connect those\n",
        "# r_outside = Room(title=\"Outside Cave Entrance\", description=\"North of you, the cave mount beckons...\", x = 0, y = -1)\n",
        "# r_foyer = Room(title=\"Foyer\", description=\"Dim light filters ...\", x = 0, y = 0)\n",
        "# r_overlook = Room(title=\"Grand Overlook\", description=\"A steep cliff appears ...\", x = 0, y = 1)\n",
        "# r_narrow = Room(title=\"Narrow Passage\", description=\"The narrow passage bends ...\", x = -1, y = 0)\n",
        "# r_treasure = Room(title=\"Treasure Chamber\", description=\"You've found...\"), x = -1, y = 1)\n",
        "# # .save() saves in the django database\n",
        "# r_outside.save()\n",
        "# r_foyer.save()\n",
        "# r_overlook.save()\n",
        "# r_narrow.save()\n",
        "# r_treasure.save()\n",
        "# # Link rooms together\n",
        "# r_outside.connectRooms(r_foyer, \"n\")\n",
        "# r_foyer.connectRooms(r_outside, \"s\")\n",
        "# r_foyer.connectRooms(r_overlook, \"n\")\n",
        "# r_overlook.connectRooms(r_foyer, \"s\")\n",
        "# r_foyer.connectRooms(r_narrow, \"e\")\n",
        "# r_narrow.connectRooms(r_foyer, \"w\")\n",
        "# r_narrow.connectRooms(r_treasure, \"n\")\n",
        "# r_treasure.connectRooms(r_narrow, \"s\")\n",
        "# players = Player.objects.all()\n",
        "# for p in players:\n",
        "#     p.currentRoom = r_outside.id\n",
        "#     p.save()"
      ],
      "execution_count": 0,
      "outputs": []
    },
    {
      "cell_type": "markdown",
      "metadata": {
        "id": "y6DDD8PgnstR",
        "colab_type": "text"
      },
      "source": [
        "# Works Locally on django"
      ]
    },
    {
      "cell_type": "code",
      "metadata": {
        "id": "NpCk680coNAK",
        "colab_type": "code",
        "colab": {}
      },
      "source": [
        "room_object_input_list = [[0, 'Dungeon Server Wearhouse', 'This where the monsters keep their servers.', 1, 0], [1, 'library', 'This library is very bright and quiet.', 1, 1], [2, 'Banquet Room', 'This looks like a room for large events.', 0, 1], [3, 'Medium Hallway', 'This hallway is... Be very careful.', 0, 2], [4, 'Office', 'This room looks like a basement office at the state department.', 1, 2], [5, 'Office', 'This room looks like a basement office at the state department.', 2, 0], [6, 'Swimming Pool', 'This looks like a great place to swim...is that a giant squid?', 3, 0], [7, 'Dungeon Server Wearhouse', 'This where the monsters keep their servers.', 3, 1], [8, 'Dungeon Cell', 'This room looks like a prison cell.', 3, 2], [9, 'storage_room', 'This storage room is full of things.', 2, 2], [10, 'Walk In Closet', \"This room is a huge walk-in-closet. There's clothing everywhere!\", 2, 3], [11, 'Office', 'This room looks like a basement office at the state department.', 3, 3], [12, 'Swimming Pool', 'This looks like a great place to swim...is that a giant squid?', 4, 2], [13, 'Dungeon Server Wearhouse', 'This where the monsters keep their servers.', 2, 1], [14, 'Dungeon Server Wearhouse', 'This where the monsters keep their servers.', 4, 1], [15, 'Office', 'This room looks like a basement office at the state department.', 5, 1], [16, 'Kitchen', 'This room is full of cooking supplies.', 5, 0], [17, 'Medium Hallway', 'This hallway is... Be very careful.', 6, 1], [18, 'Office', 'This room looks like a basement office at the state department.', 6, 0], [19, 'Mine', 'This area looks to be mine set up to find coal, iron, diamonds...and redstone...Punch a tree and get your torches ready!', 4, 0], [20, 'Armory', 'This stone room is full of arms. To Arms!', 4, 3], [21, 'Nest', 'This looks web filled nest for some kind of creature.', 5, 2], [22, 'Medium Hallway', 'This hallway is... Be very careful.', 5, 3], [23, 'stone room', 'This stone room is dark. Be careful.', 2, 4], [24, 'Mine', 'This area looks to be mine set up to find coal, iron, diamonds...and redstone...Punch a tree and get your torches ready!', 2, 5], [25, 'Walk In Closet', \"This room is a huge walk-in-closet. There's clothing everywhere!\", 2, 6], [26, 'library', 'This library is very bright and quiet.', 2, 7], [27, 'Medium Hallway', 'This hallway is... Be very careful.', 1, 7], [28, 'Mine', 'This area looks to be mine set up to find coal, iron, diamonds...and redstone...Punch a tree and get your torches ready!', 1, 6], [29, 'library', 'This library is very bright and quiet.', 0, 6], [30, 'Kitchen', 'This room is full of cooking supplies.', 0, 5], [31, 'Kitchen', 'This room is full of cooking supplies.', 0, 4], [32, 'Medium Hallway', 'This hallway is... Be very careful.', 1, 4], [33, 'stone room', 'This stone room is dark. Be careful.', 1, 5], [34, 'Mine', 'This area looks to be mine set up to find coal, iron, diamonds...and redstone...Punch a tree and get your torches ready!', 1, 3], [35, 'stone room', 'This stone room is dark. Be careful.', 6, 3], [36, 'Kitchen', 'This room is full of cooking supplies.', 6, 2], [37, 'Dungeon Cell', 'This room looks like a prison cell.', 7, 2], [38, 'Dungeon Server Wearhouse', 'This where the monsters keep their servers.', 7, 3], [39, 'Dungeon Cell', 'This room looks like a prison cell.', 8, 3], [40, 'Banquet Room', 'This looks like a room for large events.', 8, 4], [41, 'Armory', 'This stone room is full of arms. To Arms!', 8, 2], [42, 'Walk In Closet', \"This room is a huge walk-in-closet. There's clothing everywhere!\", 9, 2], [43, 'Armory', 'This stone room is full of arms. To Arms!', 9, 3], [44, 'Medium Hallway', 'This hallway is... Be very careful.', 5, 4], [45, 'Long Hallway', 'This hallway is very long. Be careful.', 6, 4], [46, 'Nest', 'This looks web filled nest for some kind of creature.', 6, 5], [47, 'library', 'This library is very bright and quiet.', 6, 6], [48, 'Walk In Closet', \"This room is a huge walk-in-closet. There's clothing everywhere!\", 7, 6], [49, 'Mine', 'This area looks to be mine set up to find coal, iron, diamonds...and redstone...Punch a tree and get your torches ready!', 7, 5], [50, 'Office', 'This room looks like a basement office at the state department.', 5, 6], [51, 'Dungeon Cell', 'This room looks like a prison cell.', 6, 7], [52, 'Mine', 'This area looks to be mine set up to find coal, iron, diamonds...and redstone...Punch a tree and get your torches ready!', 5, 7], [53, 'Kitchen', 'This room is full of cooking supplies.', 7, 7], [54, 'Swimming Pool', 'This looks like a great place to swim...is that a giant squid?', 8, 5], [55, 'Mine', 'This area looks to be mine set up to find coal, iron, diamonds...and redstone...Punch a tree and get your torches ready!', 9, 4], [56, 'Dungeon Cell', 'This room looks like a prison cell.', 7, 1], [57, 'Banquet Room', 'This looks like a room for large events.', 7, 0], [58, 'Swimming Pool', 'This looks like a great place to swim...is that a giant squid?', 4, 4], [59, 'Banquet Room', 'This looks like a room for large events.', 5, 5], [60, 'wooden_room', 'The wooden room is very...woodish.', 4, 5], [61, 'Medium Hallway', 'This hallway is... Be very careful.', 3, 4], [62, 'Short Hallway', 'This hallway is not very long. Be very careful.', 3, 5], [63, 'Kitchen', 'This room is full of cooking supplies.', 3, 6], [64, 'Long Hallway', 'This hallway is very long. Be careful.', 4, 6], [65, 'Mine', 'This area looks to be mine set up to find coal, iron, diamonds...and redstone...Punch a tree and get your torches ready!', 4, 7], [66, 'Medium Hallway', 'This hallway is... Be very careful.', 4, 8], [67, 'Medium Hallway', 'This hallway is... Be very careful.', 4, 9], [68, 'Dungeon Cell', 'This room looks like a prison cell.', 5, 9], [69, 'Armory', 'This stone room is full of arms. To Arms!', 6, 9], [70, 'Mine', 'This area looks to be mine set up to find coal, iron, diamonds...and redstone...Punch a tree and get your torches ready!', 6, 10], [71, 'Armory', 'This stone room is full of arms. To Arms!', 6, 11], [72, 'storage_room', 'This storage room is full of things.', 7, 11], [73, 'Dungeon Cell', 'This room looks like a prison cell.', 6, 12], [74, 'wooden_room', 'The wooden room is very...woodish.', 6, 13], [75, 'Swimming Pool', 'This looks like a great place to swim...is that a giant squid?', 6, 14], [76, 'Long Hallway', 'This hallway is very long. Be careful.', 7, 14], [77, 'library', 'This library is very bright and quiet.', 7, 15], [78, 'Dungeon Server Wearhouse', 'This where the monsters keep their servers.', 6, 15], [79, 'Nest', 'This looks web filled nest for some kind of creature.', 7, 13], [80, 'Nest', 'This looks web filled nest for some kind of creature.', 8, 13], [81, 'wooden_room', 'The wooden room is very...woodish.', 9, 13], [82, 'Mine', 'This area looks to be mine set up to find coal, iron, diamonds...and redstone...Punch a tree and get your torches ready!', 7, 12], [83, 'Dungeon Cell', 'This room looks like a prison cell.', 8, 11], [84, 'stone room', 'This stone room is dark. Be careful.', 9, 11], [85, 'Armory', 'This stone room is full of arms. To Arms!', 9, 10], [86, 'Office', 'This room looks like a basement office at the state department.', 9, 12], [87, 'Nest', 'This looks web filled nest for some kind of creature.', 8, 10], [88, 'storage_room', 'This storage room is full of things.', 7, 10], [89, 'Mine', 'This area looks to be mine set up to find coal, iron, diamonds...and redstone...Punch a tree and get your torches ready!', 5, 11], [90, 'Dungeon Server Wearhouse', 'This where the monsters keep their servers.', 5, 12], [91, 'Dungeon Server Wearhouse', 'This where the monsters keep their servers.', 4, 11], [92, 'Short Hallway', 'This hallway is not very long. Be very careful.', 4, 12], [93, 'library', 'This library is very bright and quiet.', 7, 9], [94, 'Nest', 'This looks web filled nest for some kind of creature.', 6, 8], [95, 'Short Hallway', 'This hallway is not very long. Be very careful.', 7, 8], [96, 'Dungeon Cell', 'This room looks like a prison cell.', 5, 10], [97, 'Long Hallway', 'This hallway is very long. Be careful.', 3, 12], [98, 'Swimming Pool', 'This looks like a great place to swim...is that a giant squid?', 3, 11], [99, 'Walk In Closet', \"This room is a huge walk-in-closet. There's clothing everywhere!\", 2, 11]]"
      ],
      "execution_count": 0,
      "outputs": []
    },
    {
      "cell_type": "code",
      "metadata": {
        "id": "CH26a4aWrUy3",
        "colab_type": "code",
        "colab": {}
      },
      "source": [
        "direction_list = [['e', 'w'], ['n', 's'], ['w', 'e'], ['n', 's'], ['e', 'w'], ['e', 'w'], ['e', 'w'], ['n', 's'], ['n', 's'], ['w', 'e'], ['n', 's'], ['e', 'w'], ['e', 'w'], ['w', 'e'], ['e', 'w'], ['e', 'w'], ['s', 'n'], ['e', 'w'], ['e', 'w'], ['w', 'e'], ['n', 's'], ['n', 's'], ['e', 'w'], ['n', 's'], ['n', 's'], ['n', 's'], ['n', 's'], ['w', 'e'], ['s', 'n'], ['w', 'e'], ['s', 'n'], ['s', 'n'], ['e', 'w'], ['n', 's'], ['s', 'n'], ['e', 'w'], ['s', 'n'], ['e', 'w'], ['n', 's'], ['e', 'w'], ['n', 's'], ['s', 'n'], ['e', 'w'], ['n', 's'], ['n', 's'], ['e', 'w'], ['n', 's'], ['n', 's'], ['e', 'w'], ['s', 'n'], ['w', 'e'], ['n', 's'], ['w', 'e'], ['n', 's'], ['e', 'w'], ['e', 'w'], ['e', 'w'], ['s', 'n'], ['w', 'e'], ['n', 's'], ['w', 'e'], ['w', 'e'], ['n', 's'], ['n', 's'], ['n', 's'], ['n', 's'], ['n', 's'], ['n', 's'], ['e', 'w'], ['e', 'w'], ['n', 's'], ['n', 's'], ['e', 'w'], ['n', 's'], ['n', 's'], ['n', 's'], ['e', 'w'], ['n', 's'], ['w', 'e'], ['s', 'n'], ['e', 'w'], ['e', 'w'], ['s', 'n'], ['e', 'w'], ['e', 'w'], ['s', 'n'], ['n', 's'], ['w', 'e'], ['w', 'e'], ['w', 'e'], ['n', 's'], ['w', 'e'], ['n', 's'], ['s', 'n'], ['s', 'n'], ['e', 'w'], ['w', 'e'], ['w', 'e'], ['s', 'n'], ['w', 'e']]"
      ],
      "execution_count": 0,
      "outputs": []
    },
    {
      "cell_type": "code",
      "metadata": {
        "id": "x5Hbn5r6lZKj",
        "colab_type": "code",
        "colab": {}
      },
      "source": [
        "# trying to iterate through using this and last as names\n",
        "# this works given the variables input...question...names...\n",
        "# testing on just last 2 rooms\n",
        "# create_coconut_world.py\n",
        "# this is the file that must be run, which dungeon making must be merged into\n",
        "from django.contrib.auth.models import User\n",
        "from adventure.models import Player, Room\n",
        "# step 1: make rooms\n",
        "# step 2: make players\n",
        "# erases pre-existing rooms\n",
        "Room.objects.all().delete()\n",
        "# for first room mask\n",
        "mask_1 = room_object_input_list[0][0]\n",
        "mask_2 = room_object_input_list[0][1]\n",
        "mask_3 = room_object_input_list[0][2]\n",
        "mask_4 = room_object_input_list[0][3]\n",
        "mask_5 = room_object_input_list[0][4]\n",
        "# first room mask\n",
        "first_room = Room(mask_1, mask_2, mask_3, mask_4, mask_5)\n",
        "# save to database\n",
        "first_room.save()\n",
        "#setting the first 'previous_room' room\n",
        "previous_room = first_room\n",
        "for i in range(1,len(room_object_input_list)):\n",
        "    # for iterating generator\n",
        "    mask_1 = room_object_input_list[i][0]\n",
        "    mask_2 = room_object_input_list[i][1]\n",
        "    mask_3 = room_object_input_list[i][2]\n",
        "    mask_4 = room_object_input_list[i][3]\n",
        "    mask_5 = room_object_input_list[i][4]\n",
        "    #p_outside = Room(mask_1, mask_2, mask_3, mask_4, mask_5)\n",
        "    new_room = Room(mask_1, mask_2, mask_3, mask_4, mask_5)\n",
        "    # save to DB\n",
        "    new_room.save()\n",
        "    # room connections: make both room connections\n",
        "    previous_room.connectRooms(new_room, direction_list[i][0])\n",
        "    new_room.connectRooms(previous_room, direction_list[i][1])\n",
        "    # resetting variable\n",
        "    previous_room = new_room\n",
        "#\n",
        "players = Player.objects.all()\n",
        "for p in players:\n",
        "    p.currentRoom = first_room.id\n",
        "    p.save()"
      ],
      "execution_count": 0,
      "outputs": []
    },
    {
      "cell_type": "code",
      "metadata": {
        "id": "HtAxb69Lmr4_",
        "colab_type": "code",
        "colab": {}
      },
      "source": [
        "for i in room_object_input_list[1:]:\n",
        "    print(i)"
      ],
      "execution_count": 0,
      "outputs": []
    },
    {
      "cell_type": "markdown",
      "metadata": {
        "id": "izkSarNkmJhB",
        "colab_type": "text"
      },
      "source": [
        ""
      ]
    },
    {
      "cell_type": "code",
      "metadata": {
        "id": "3WvttHfokzJz",
        "colab_type": "code",
        "colab": {
          "base_uri": "https://localhost:8080/",
          "height": 102
        },
        "outputId": "5fb30405-f8ac-48ea-b3be-3a558e30c092"
      },
      "source": [
        "#for i in range (1, len(room_object_input_list)):\n",
        "for i in room_object_input_list[0]:\n",
        "    print(i)"
      ],
      "execution_count": 36,
      "outputs": [
        {
          "output_type": "stream",
          "text": [
            "0\n",
            "Dungeon Server Wearhouse\n",
            "This where the monsters keep their servers.\n",
            "1\n",
            "0\n"
          ],
          "name": "stdout"
        }
      ]
    },
    {
      "cell_type": "markdown",
      "metadata": {
        "id": "m6I_Uf2MkOvn",
        "colab_type": "text"
      },
      "source": [
        "e.g. "
      ]
    },
    {
      "cell_type": "code",
      "metadata": {
        "id": "WJEEBA6Pencq",
        "colab_type": "code",
        "colab": {
          "base_uri": "https://localhost:8080/",
          "height": 34
        },
        "outputId": "a6dad228-1f69-4bf9-fbdb-96fde1e3c695"
      },
      "source": [
        "print(room_object_input_list[0][1])\n",
        "for i in w.room_object_input_list:\n",
        "  room_object_input_list[i].save()\n",
        "  # make maske for rooms\n",
        "  this_room = room_object_input_list[i]\n",
        "  last_room = room_object_input_list[i-1]\n",
        "  # make both room connections\n",
        "  last_room.connectRooms(this_room, direction_list[0])\n",
        "  this_room.connectRooms(last_room, direction_list[1])\n"
      ],
      "execution_count": 11,
      "outputs": [
        {
          "output_type": "stream",
          "text": [
            "Walk In Closet\n"
          ],
          "name": "stdout"
        }
      ]
    },
    {
      "cell_type": "code",
      "metadata": {
        "id": "vZBUhLOZa3z6",
        "colab_type": "code",
        "outputId": "46a25dcd-bd0f-405d-d48b-e2775804bb41",
        "colab": {
          "base_uri": "https://localhost:8080/",
          "height": 35
        }
      },
      "source": [
        "dictionary_of_rooms_and_doors = {(0,0):1}\n",
        "dictionary_of_rooms_and_doors[(0,0)] = [3]\n",
        "dictionary_of_rooms_and_doors\n",
        "type(dictionary_of_rooms_and_doors[(0,0)])\n"
      ],
      "execution_count": 0,
      "outputs": [
        {
          "output_type": "execute_result",
          "data": {
            "text/plain": [
              "list"
            ]
          },
          "metadata": {
            "tags": []
          },
          "execution_count": 7
        }
      ]
    },
    {
      "cell_type": "code",
      "metadata": {
        "id": "6ur4s3PpBigg",
        "colab_type": "code",
        "outputId": "4a9e28e5-3057-43f8-c508-bd835ae3252a",
        "colab": {
          "base_uri": "https://localhost:8080/",
          "height": 35
        }
      },
      "source": [
        "previous_id_tuple = (0,1)\n",
        "dictionary_of_rooms_and_doors = {(0,0): []}\n",
        "#dictionary_of_rooms_and_doors = {(0,0)}\n",
        "dictionary_of_rooms_and_doors\n",
        "dictionary_of_rooms_and_doors[(0,0)].extend(previous_id_tuple)\n",
        "dictionary_of_rooms_and_doors\n"
      ],
      "execution_count": 0,
      "outputs": [
        {
          "output_type": "execute_result",
          "data": {
            "text/plain": [
              "{(0, 0): [0, 1]}"
            ]
          },
          "metadata": {
            "tags": []
          },
          "execution_count": 5
        }
      ]
    },
    {
      "cell_type": "markdown",
      "metadata": {
        "id": "VzMMTqxZ5W5d",
        "colab_type": "text"
      },
      "source": [
        "merge the coconut_generator and the create_world.py"
      ]
    },
    {
      "cell_type": "code",
      "metadata": {
        "id": "SaM3ejoNSDbu",
        "colab_type": "code",
        "colab": {}
      },
      "source": [
        "\n",
        "# create_world.py\n",
        "# this is the file that must be run, which dungeon making must be merged into\n",
        "from django.contrib.auth.models import User\n",
        "from adventure.models import Player, Room\n",
        "# steps:\n",
        "# step 1: make rooms\n",
        "# step 2: make players\n",
        "#\n",
        "# erases pre-existing rooms\n",
        "Room.objects.all().delete()\n",
        "# creates set rooms\n",
        "# randomly generated/(or selected-from-smaller-set) description\n",
        "# idea: create clusters of rooms, and connect those\n",
        "r_outside = Room(title=\"Outside Cave Entrance\", description=\"North of you, the cave mount beckons\")\n",
        "r_foyer = Room(title=\"Foyer\", description=\"\"\"Dim light filters in from the south. Dusty passages run north and east.\"\"\")\n",
        "r_overlook = Room(title=\"Grand Overlook\", description=\"\"\"A steep cliff appears before you, falling into the darkness. Ahead to the north, a light flickers in the distance, but there is no way across the chasm.\"\"\")\n",
        "r_narrow = Room(title=\"Narrow Passage\", description=\"\"\"The narrow passage bends here from west to north. The smell of gold permeates the air.\"\"\")\n",
        "r_treasure = Room(title=\"Treasure Chamber\", description=\"\"\"You've found the long-lost treasure chamber! Sadly, it has already been completely emptied by earlier adventurers. The only exit is to the south.\"\"\")\n",
        "#\n",
        "# .save() saves in the django database\n",
        "r_outside.save()\n",
        "r_foyer.save()\n",
        "r_overlook.save()\n",
        "r_narrow.save()\n",
        "r_treasure.save()\n",
        "# \n",
        "# Link rooms together\n",
        "r_outside.connectRooms(r_foyer, \"n\")\n",
        "r_foyer.connectRooms(r_outside, \"s\")\n",
        "r_foyer.connectRooms(r_overlook, \"n\")\n",
        "r_overlook.connectRooms(r_foyer, \"s\")\n",
        "r_foyer.connectRooms(r_narrow, \"e\")\n",
        "r_narrow.connectRooms(r_foyer, \"w\")\n",
        "r_narrow.connectRooms(r_treasure, \"n\")\n",
        "r_treasure.connectRooms(r_narrow, \"s\")\n",
        "#\n",
        "# make players\n",
        "players = Player.objects.all()\n",
        "for p in players:\n",
        "    p.currentRoom = r_outside.id\n",
        "    p.save()"
      ],
      "execution_count": 0,
      "outputs": []
    },
    {
      "cell_type": "code",
      "metadata": {
        "id": "OuesfO0cU1NE",
        "colab_type": "code",
        "colab": {}
      },
      "source": [
        "from django.contrib.auth.models import User\n",
        "from adventure.models import Player, Room\n",
        "# World\n",
        "#\n",
        "# attributes of world-grid\n",
        "grid = None\n",
        "# # 2 lists for front end mapping\n",
        "rooms_list = None\n",
        "doors_list = None\n",
        "width = 0\n",
        "height = 0\n",
        "first_room = None\n",
        "room_obj_list = []\n",
        "room_connections_list = []\n",
        "room_obj_list = []\n",
        "# set input values\n",
        "num_rooms = 100\n",
        "width = 20\n",
        "size_x = width\n",
        "height = 20\n",
        "size_y = height\n",
        "#def generate_rooms(size_x, size_y, num_rooms):\n",
        "# Step 1: set up variables and things for while loop\n",
        "# Step 2: run while loop to create rooms\n",
        "# this makes any empty world grid - why this sequence?\n",
        "#\n",
        "# make part of grid? sets y dimension?\n",
        "grid = [None] * size_y\n",
        "# sets max size of world-grid\n",
        "width = size_x        \n",
        "height = size_y\n",
        "# ? since grid was made, what does this do?\n",
        "# sets x dimension?\n",
        "for i in range( len(grid) ):\n",
        "    grid[i] = [None] * size_x\n",
        "# # 2 lists for front end mapping\n",
        "rooms_list = []\n",
        "doors_list = []\n",
        "# Start from lower-left corner (0,0)\n",
        "x = -1 # (this will become 0 on the first step)\n",
        "y = 0\n",
        "# keeping values for comparison\n",
        "previous_id_tuple = None\n",
        "previous_room = None\n",
        "previous_direction = None\n",
        "# up to max number of rooms\n",
        "room_count = 0\n",
        "# move these out of the while loop\n",
        "import random\n",
        "# for random room generation\n",
        "# standard room types\n",
        "r_long_hallway = (\"Long Hallway\", \"This hallway is very long. Be careful.\")\n",
        "r_short_hallway = (\"Short Hallway\", \"This hallway is not very long. Be very careful.\")\n",
        "r_medium_hallway = (\"Medium Hallway\", \"This hallway is... Be very careful.\")\n",
        "r_stone_room = (\"Stone Room\", \"This stone room is dark. Be careful.\")\n",
        "r_wooden_room = (\"Wooden Room\", \"The wooden room is very...woodish.\")\n",
        "r_swimming_pool = (\"Swimming Pool\", \"This looks like a great place to swim...is that a giant squid?\")\n",
        "r_library = (\"library\", \"This library is very bright and quiet.\")\n",
        "r_storage_room = (\"storage_room\", \"This storage room is full of things.\")\n",
        "r_kitchen = (\"Kitchen\", \"This room is full of cooking supplies.\")\n",
        "r_dungeon_cell = (\"Dungeon Cell\", \"This room looks like a prison cell.\")\n",
        "r_server_room = (\"Dungeon Server Wearhouse\", \"This where the monsters keep their servers.\")\n",
        "r_banquet_room = (\"Banquet Room\", \"This looks like a room for large events.\")\n",
        "r_nest = (\"Nest\", \"This looks web filled nest for some kind of creature.\")\n",
        "r_armory = (\"Armory\", \"This stone room is full of arms. To Arms!\")\n",
        "r_cave = (\"Cave\", \"This stone room looks to be a natural cave opening.\")\n",
        "r_mine = (\"Mine\", \"This area looks to be mine set up to find coal, iron, diamonds...and redstone...Punch a tree and get your torches ready!\")\n",
        "r_office = (\"Office\", \"This room looks like a basement office at the state department.\")           \n",
        "r_walk_in_closet = (\"Walk In Closet\", \"This room is a huge walk-in-closet. There's clothing everywhere! What????\")\n",
        "r_ball_room = (\"Ball Room\", \"This room is full to waist height of small plastic multi-colored balls...be careful!!!\")\n",
        "# List of possible room types of Rooms\n",
        "room_type_list = [r_long_hallway, r_medium_hallway, r_short_hallway, r_stone_room, r_wooden_room, r_swimming_pool, r_library, r_storage_room, r_kitchen, r_dungeon_cell, r_server_room, r_banquet_room, r_nest, r_armory, r_mine, r_office, r_walk_in_closet, r_ball_room]\n",
        "# set values\n",
        "x = 0\n",
        "y = 0\n",
        "current_direction = 'n'\n",
        "# while look for making rooms\n",
        "# Random walk through grid of rooms, \n",
        "# any direction except backwards\n",
        "while room_count < num_rooms:\n",
        "    # randomly pick room type\n",
        "    this_room_type = random.choice(room_type_list)\n",
        "    # # inspection\n",
        "    # print(this_room_type)\n",
        "    # previous_room_direction = reverse_dirs[current_direction]\n",
        "    possible_directions = ['n', 's', 'e' ,'w']\n",
        "    # starts with a random choice:\n",
        "    current_direction = random.choice(possible_directions)\n",
        "    # save old values\n",
        "    x_old = x\n",
        "    y_old = y\n",
        "    # save the location of the past room\n",
        "    past_room = (x,y)\n",
        "    # \"don't go out of bounds\"\n",
        "    # check to make sure not out of bounds\n",
        "    # while out of bounds, keep trying again for a not-out option\n",
        "    while (x >= size_x - 1) or (y >= size_y - 1) or (x < 0) or (y < 0) or ((x,y) == past_room) or ((x,y) == (0,0)):\n",
        "        # save old values\n",
        "        x = x_old\n",
        "        y = y_old\n",
        "        # starts with a random choice:\n",
        "        current_direction = random.choice(possible_directions)\n",
        "        if current_direction == 'n':\n",
        "            y += 1\n",
        "        if current_direction == 's':\n",
        "            y -= 1\n",
        "        if current_direction == 'e':\n",
        "            x += 1\n",
        "        if current_direction == 'w':\n",
        "            x -= 1\n",
        "    # look for a previously made room (where you are looking \n",
        "    # to make a new room)\n",
        "    # if not (already one there), make a new room\n",
        "    if grid[y][x] is None:\n",
        "        # # Create a room in the given direction\n",
        "        # room = Room(room_count, this_room_type[0], this_room_type[1])\n",
        "        #(title=\"Outside Cave Entrance\", description=\"North of you, the cave mount beckons\")\n",
        "        room = Room(title = this_room_type[0], description = this_room_type[1], x, y)   \n",
        "        # Save the room in the World grid\n",
        "        grid[y][x] = room\n",
        "        # update room counter, only if a new room is made\n",
        "        room_count += 1\n",
        "        # add room to room list:\n",
        "        mask_dict = {'x':x, 'y':y}\n",
        "        rooms_list.extend([mask_dict])\n",
        "    # sets previous reverse room direction\n",
        "    reverse_dirs = {\"n\": \"s\", \"s\": \"n\", \"e\": \"w\", \"w\": \"e\"}\n",
        "    previous_room_direction = reverse_dirs[current_direction]\n",
        "    # either way: Connect the new room to the previous room\n",
        "    if previous_room is not None:\n",
        "        # connect to the previous room...in DB\n",
        "        previous_room.maker_connect_rooms(room, previous_room_direction)\n",
        "        room.maker_connect_rooms(previous_room, current_direction)\n",
        "        # doors list: add room to list:\n",
        "        mask = [{'x': int(room.x), 'y': int(room.y)}, {'x': int(previous_room.x), 'y': int(previous_room.y)}]\n",
        "        doors_list.extend([mask])\n",
        "        # this saves a:  \n",
        "        # will this work? pull up each tuple and slice that?\n",
        "        mask3 = (room , previous_room)\n",
        "        doors_list.extend(mask)\n",
        "    # Update iteration variables\n",
        "    previous_room = room\n",
        "    # Saves the room-object for just the first room\n",
        "    # to be used later as the starting location of\n",
        "    # the player.\n",
        "    if room_count == 1:\n",
        "        first_room = room\n",
        "    # # saves the room to django datatable\n",
        "    # # or just makes everything break\n",
        "    #room_obj_list.extend(room) \n",
        "    room.save()\n",
        "print(rooms_list)\n",
        "print(doors_list)"
      ],
      "execution_count": 0,
      "outputs": []
    },
    {
      "cell_type": "markdown",
      "metadata": {
        "id": "BYKbFtrRZVRk",
        "colab_type": "text"
      },
      "source": [
        "# idea:\n",
        "\n",
        "make a list in colab, and give that list to the function to save and connect each item.\n",
        "\n",
        "make room-object-data list\n",
        "save room\n",
        "make connections\n",
        "save .json file of coordinates for room and connection\n",
        "make prefab endpoint"
      ]
    },
    {
      "cell_type": "code",
      "metadata": {
        "id": "UfMb2eePZVaJ",
        "colab_type": "code",
        "colab": {}
      },
      "source": [
        ""
      ],
      "execution_count": 0,
      "outputs": []
    },
    {
      "cell_type": "markdown",
      "metadata": {
        "id": "i4ZBRfDdZK_W",
        "colab_type": "text"
      },
      "source": [
        "# TL example helper code"
      ]
    },
    {
      "cell_type": "code",
      "metadata": {
        "id": "6YzLHJrHEqZx",
        "colab_type": "code",
        "colab": {}
      },
      "source": [
        "# helper helperness!!!\n",
        "\n",
        "from django.contrib.auth.models import User\n",
        "from adventure.models import Player, Room\n",
        "import random\n",
        "\n",
        "Room.objects.all().delete()\n",
        "\n",
        "population = [\"crowded\", \"normal\", \"deserted\"]\n",
        "\n",
        "ambiance = [\"bright\", \"dim\", \"normal\", \"grimy\", \"sterile\"]\n",
        "\n",
        "funct = [\"card room\", \"hallway\", \"tunnel\", \"kitchen\", \"bar\", \"pool room\"]\n",
        "\n",
        "description_beginners = [\"You find yourself in \",\n",
        "                         \"You have stumbled upon \", \"You walk into \"]\n",
        "\n",
        "pop_desc = {\n",
        "    \"crowded\": \"Around you is a sea of bustling orcs and goblins.\",\n",
        "    \"normal\": \"A few goblins are milling about.\",\n",
        "    \"deserted\": \"The place looks deserted.\"\n",
        "}\n",
        "\n",
        "ambiance_desc = {\n",
        "    \"bright\": \"The glare of the torch light is almost too much for your eyes to bear.\",\n",
        "    \"dim\": \"You can barely make out any shapes in the dim light.\",\n",
        "    \"normal\": \"Things look fine here.\",\n",
        "    \"grimy\": \"Everything has a fine layer of dust and filth upon it.\",\n",
        "    \"sterile\": \"The walls and floor are spotless.\"\n",
        "}\n",
        "\n",
        "functional_desc = {\n",
        "    \"card room\": \"An orc holding a deck of cards looks up and smiles as you enter.\",\n",
        "    \"hallway\": \"Just a hallway, not much to do but walk on.\",\n",
        "    \"tunnel\": \"Water drips from the ceiling onto the muddy floor.\",\n",
        "    \"kitchen\": \"An awful stench fills your nose.  Probably just roast halfling.\",\n",
        "    \"bar\": \"The smell of stale grog makes your stomach turn.\",\n",
        "    \"pool room\": \"The felt on the pool tables is faded and splattered with dark stains.\"\n",
        "}\n",
        "\n",
        "\n",
        "def room_generator(id):\n",
        "    room_population = random.choice(population)\n",
        "    room_ambiance = random.choice(ambiance)\n",
        "    room_function = random.choice(funct)\n",
        "    room_desc_begin = random.choice(description_beginners)\n",
        "    title = f\"{room_population.capitalize()} {room_function}\"\n",
        "    description = f\"{room_desc_begin} a {room_population} {room_function}. {pop_desc[room_population]} {ambiance_desc[room_ambiance]} {functional_desc[room_function]}\"\n",
        "    return Room(id=id, title=title, description=description)\n",
        "\n",
        "# input settings\n",
        "num_room = 150\n",
        "height = 20\n",
        "width = 20\n",
        "\n",
        "# list of room objects\n",
        "rooms = []\n",
        "\n",
        "for id in range(num_room):\n",
        "    random_room = room_generator(id)\n",
        "    rooms.append(random_room)\n",
        "\n",
        "# for room in rooms:\n",
        "#     room.save()\n",
        "\n",
        "opposite = {\n",
        "    \"n\": \"s\",\n",
        "    \"s\": \"n\",\n",
        "    \"e\": \"w\",\n",
        "    \"w\": \"e\"\n",
        "}\n",
        "\n",
        "world = dict()\n",
        "\n",
        "\n",
        "def popomatic():\n",
        "    dir_int = random.randint(0, 3)\n",
        "    dir = {\n",
        "        0: \"n\",\n",
        "        1: \"s\",\n",
        "        2: \"e\",\n",
        "        3: \"w\"\n",
        "    }\n",
        "    return dir[dir_int]\n",
        "\n",
        "# takes in a direction and coordinate list (y, x), returns appropriate\n",
        "# list representing 1 move in that direction\n",
        "\n",
        "\n",
        "def move_coord(dir, coord_list):\n",
        "    if dir == \"n\":\n",
        "        return [coord_list[0] + 1, coord_list[1]]\n",
        "    elif dir == \"s\":\n",
        "        return [coord_list[0] - 1, coord_list[1]]\n",
        "    elif dir == \"e\":\n",
        "        return [coord_list[0], coord_list[1] + 1]\n",
        "    else:\n",
        "        return [coord_list[0], coord_list[1] - 1]\n",
        "\n",
        "\n",
        "def hashable(list):\n",
        "    hashableCoord = (list[0], list[1])\n",
        "    return hashableCoord\n",
        "\n",
        "\n",
        "# grab the first room\n",
        "new_room = rooms.pop()\n",
        "# mark this room as the origin point\n",
        "origin = new_room\n",
        "# find middle of nested list\n",
        "current_coord = [height // 2, width // 2]\n",
        "# record position of room in dict\n",
        "world[hashable(current_coord)] = new_room\n",
        "# set room coordinates\n",
        "new_room.x = current_coord[1]\n",
        "new_room.y = current_coord[0]\n",
        "# save room to database\n",
        "new_room.save()\n",
        "# set current moving direction\n",
        "cur_dir = popomatic()\n",
        "stepper = random.randint(1, 5)\n",
        "# move coordinates\n",
        "# current_coord = move_coord(cur_dir, current_coord)\n",
        "print(current_coord)\n",
        "last_room = new_room\n",
        "\n",
        "while len(rooms) > 0:\n",
        "    # get the next room\n",
        "    new_room = rooms.pop()\n",
        "    # if stepper is <= 0, change direction, and reset stepper\n",
        "    if stepper <= 0:\n",
        "        stepper = random.randint(1, 3)\n",
        "        cur_dir = popomatic()\n",
        "    # while there is a room in cur_dir\n",
        "    next_coord = move_coord(cur_dir, current_coord)\n",
        "    # determine if within bounds, change direction if not\n",
        "    while (0 > next_coord[0] or next_coord[0] > width) or (0 > next_coord[1] or next_coord[1] > height):\n",
        "        cur_dir = popomatic()\n",
        "        next_coord = move_coord(cur_dir, next_coord)\n",
        "    while hashable(next_coord) in world:\n",
        "        # if there is, move to it, connect the rooms\n",
        "        last_room = world[hashable(current_coord)]\n",
        "        curr_room = world[hashable(next_coord)]\n",
        "        last_room.connectRooms(curr_room, cur_dir)\n",
        "        curr_room.connectRooms(last_room, opposite[cur_dir])\n",
        "        # save the room\n",
        "        # last_room.save()\n",
        "        # curr_room.save()\n",
        "        # continue until there is no existing room at curr_coord\n",
        "        current_coord = next_coord\n",
        "        next_coord = move_coord(cur_dir, next_coord)\n",
        "        last_room = curr_room\n",
        "    # set new room in empty spot\n",
        "    world[hashable(next_coord)] = new_room\n",
        "    new_room.x = next_coord[1]\n",
        "    new_room.y = next_coord[0]\n",
        "    new_room.save()\n",
        "    last_room.connectRooms(new_room, cur_dir)\n",
        "    new_room.connectRooms(last_room, opposite[cur_dir])\n",
        "    last_room = new_room\n",
        "    curr_room = new_room\n",
        "    current_coord = next_coord\n",
        "    stepper -= 1\n",
        "\n",
        "\n",
        "players = Player.objects.all()\n",
        "for p in players:\n",
        "    p.currentRoom = origin.id\n",
        "    p.save()\n",
        "\n",
        "print(world)"
      ],
      "execution_count": 0,
      "outputs": []
    },
    {
      "cell_type": "markdown",
      "metadata": {
        "id": "NdgEaV4KIKHU",
        "colab_type": "text"
      },
      "source": [
        ""
      ]
    },
    {
      "cell_type": "code",
      "metadata": {
        "id": "LaIYbVN_IKSx",
        "colab_type": "code",
        "colab": {}
      },
      "source": [
        "# helper helperness!!!\n",
        "from django.contrib.auth.models import User\n",
        "from adventure.models import Player, Room\n",
        "import random\n",
        "Room.objects.all().delete()\n",
        "population = [\"crowded\", \"normal\", \"deserted\"]\n",
        "ambiance = [\"bright\", \"dim\", \"normal\", \"grimy\", \"sterile\"]\n",
        "funct = [\"card room\", \"hallway\", \"tunnel\", \"kitchen\", \"bar\", \"pool room\"]\n",
        "description_beginners = [\"You find yourself in \",\n",
        "                         \"You have stumbled upon \", \"You walk into \"]\n",
        "pop_desc = {\n",
        "    \"crowded\": \"Around you is a sea of bustling orcs and goblins.\",\n",
        "    \"normal\": \"A few goblins are milling about.\",\n",
        "    \"deserted\": \"The place looks deserted.\"\n",
        "}\n",
        "ambiance_desc = {\n",
        "    \"bright\": \"The glare of the torch light is almost too much for your eyes to bear.\",\n",
        "    \"dim\": \"You can barely make out any shapes in the dim light.\",\n",
        "    \"normal\": \"Things look fine here.\",\n",
        "    \"grimy\": \"Everything has a fine layer of dust and filth upon it.\",\n",
        "    \"sterile\": \"The walls and floor are spotless.\"\n",
        "}\n",
        "functional_desc = {\n",
        "    \"card room\": \"An orc holding a deck of cards looks up and smiles as you enter.\",\n",
        "    \"hallway\": \"Just a hallway, not much to do but walk on.\",\n",
        "    \"tunnel\": \"Water drips from the ceiling onto the muddy floor.\",\n",
        "    \"kitchen\": \"An awful stench fills your nose.  Probably just roast halfling.\",\n",
        "    \"bar\": \"The smell of stale grog makes your stomach turn.\",\n",
        "    \"pool room\": \"The felt on the pool tables is faded and splattered with dark stains.\"\n",
        "}\n",
        "def room_generator(id):\n",
        "    room_population = random.choice(population)\n",
        "    room_ambiance = random.choice(ambiance)\n",
        "    room_function = random.choice(funct)\n",
        "    room_desc_begin = random.choice(description_beginners)\n",
        "    title = f\"{room_population.capitalize()} {room_function}\"\n",
        "    description = f\"{room_desc_begin} a {room_population} {room_function}. {pop_desc[room_population]} {ambiance_desc[room_ambiance]} {functional_desc[room_function]}\"\n",
        "    return Room(id=id, title=title, description=description)\n",
        "# input settings\n",
        "num_room = 150\n",
        "height = 20\n",
        "width = 20\n",
        "# list of room objects\n",
        "rooms = []\n",
        "for id in range(num_room):\n",
        "    random_room = room_generator(id)\n",
        "    rooms.append(random_room)\n",
        "# for room in rooms:\n",
        "#     room.save()\n",
        "opposite = {\n",
        "    \"n\": \"s\",\n",
        "    \"s\": \"n\",\n",
        "    \"e\": \"w\",\n",
        "    \"w\": \"e\"\n",
        "}\n",
        "world = dict()\n",
        "def popomatic():\n",
        "    dir_int = random.randint(0, 3)\n",
        "    dir = {\n",
        "        0: \"n\",\n",
        "        1: \"s\",\n",
        "        2: \"e\",\n",
        "        3: \"w\"\n",
        "    }\n",
        "    return dir[dir_int]\n",
        "# takes in a direction and coordinate list (y, x), returns appropriate\n",
        "# list representing 1 move in that direction\n",
        "def move_coord(dir, coord_list):\n",
        "    if dir == \"n\":\n",
        "        return [coord_list[0] + 1, coord_list[1]]\n",
        "    elif dir == \"s\":\n",
        "        return [coord_list[0] - 1, coord_list[1]]\n",
        "    elif dir == \"e\":\n",
        "        return [coord_list[0], coord_list[1] + 1]\n",
        "    else:\n",
        "        return [coord_list[0], coord_list[1] - 1]\n",
        "def hashable(list):\n",
        "    hashableCoord = (list[0], list[1])\n",
        "    return hashableCoord\n",
        "# grab the first room\n",
        "new_room = rooms.pop()\n",
        "# mark this room as the origin point\n",
        "origin = new_room\n",
        "# find middle of nested list\n",
        "current_coord = [height // 2, width // 2]\n",
        "# record position of room in dict\n",
        "world[hashable(current_coord)] = new_room\n",
        "# set room coordinates\n",
        "new_room.x = current_coord[1]\n",
        "new_room.y = current_coord[0]\n",
        "# save room to database\n",
        "new_room.save()\n",
        "# set current moving direction\n",
        "cur_dir = popomatic()\n",
        "stepper = random.randint(1, 5)\n",
        "# move coordinates\n",
        "# current_coord = move_coord(cur_dir, current_coord)\n",
        "print(current_coord)\n",
        "last_room = new_room\n",
        "while len(rooms) > 0:\n",
        "    # get the next room\n",
        "    new_room = rooms.pop()\n",
        "    # if stepper is <= 0, change direction, and reset stepper\n",
        "    if stepper <= 0:\n",
        "        stepper = random.randint(1, 3)\n",
        "        cur_dir = popomatic()\n",
        "    # while there is a room in cur_dir\n",
        "    next_coord = move_coord(cur_dir, current_coord)\n",
        "    # determine if within bounds, change direction if not\n",
        "    while (0 > next_coord[0] or next_coord[0] > width) or (0 > next_coord[1] or next_coord[1] > height):\n",
        "        cur_dir = popomatic()\n",
        "        next_coord = move_coord(cur_dir, next_coord)\n",
        "    while hashable(next_coord) in world:\n",
        "        # if there is, move to it, connect the rooms\n",
        "        last_room = world[hashable(current_coord)]\n",
        "        curr_room = world[hashable(next_coord)]\n",
        "        last_room.connectRooms(curr_room, cur_dir)\n",
        "        curr_room.connectRooms(last_room, opposite[cur_dir])\n",
        "        # save the room\n",
        "        # last_room.save()\n",
        "        # curr_room.save()\n",
        "        # continue until there is no existing room at curr_coord\n",
        "        current_coord = next_coord\n",
        "        next_coord = move_coord(cur_dir, next_coord)\n",
        "        last_room = curr_room\n",
        "    # set new room in empty spot\n",
        "    world[hashable(next_coord)] = new_room\n",
        "    new_room.x = next_coord[1]\n",
        "    new_room.y = next_coord[0]\n",
        "    new_room.save()\n",
        "    last_room.connectRooms(new_room, cur_dir)\n",
        "    new_room.connectRooms(last_room, opposite[cur_dir])\n",
        "    last_room = new_room\n",
        "    curr_room = new_room\n",
        "    current_coord = next_coord\n",
        "    stepper -= 1\n",
        "players = Player.objects.all()\n",
        "for p in players:\n",
        "    p.currentRoom = origin.id\n",
        "    p.save()\n",
        "print(world)"
      ],
      "execution_count": 0,
      "outputs": []
    }
  ]
}